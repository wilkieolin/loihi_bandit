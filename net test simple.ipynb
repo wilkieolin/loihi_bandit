{
 "cells": [
  {
   "cell_type": "markdown",
   "metadata": {},
   "source": [
    "Bandit network with 1 arm"
   ]
  },
  {
   "cell_type": "code",
   "execution_count": 1,
   "metadata": {},
   "outputs": [],
   "source": [
    "import os\n",
    "import nxsdk.api.n2a as nx\n",
    "import numpy as np\n",
    "import matplotlib.pyplot as plt\n",
    "from nxsdk.graph.monitor.probes import *\n",
    "from nxsdk.graph.processes.phase_enums import Phase"
   ]
  },
  {
   "cell_type": "code",
   "execution_count": 2,
   "metadata": {},
   "outputs": [],
   "source": [
    "import re"
   ]
  },
  {
   "cell_type": "code",
   "execution_count": 3,
   "metadata": {},
   "outputs": [],
   "source": [
    "import matplotlib.pyplot as plt"
   ]
  },
  {
   "cell_type": "code",
   "execution_count": 4,
   "metadata": {},
   "outputs": [],
   "source": [
    "def set_params_file(numArms, neuronsPerArm):\n",
    "    filename = os.getcwd()+'/parameters.h'\n",
    "    \n",
    "    with open(filename) as f:\n",
    "        data = f.readlines()\n",
    "        \n",
    "    f = open(filename, \"w\")\n",
    "    for line in data:\n",
    "\n",
    "        #update numarms\n",
    "        m = re.match(r'^#define\\s+NUMARMS', line)\n",
    "        if m is not None:\n",
    "            line = '#define NUMARMS ' + str(numArms) + '\\n'\n",
    "\n",
    "        #update neuronsperarm\n",
    "        m = re.match(r'^#define\\s+NEURONSPERARM', line)\n",
    "        if m is not None:\n",
    "            line = '#define NEURONSPERARM ' + str(neuronsPerArm) + '\\n'\n",
    "\n",
    "        f.write(line)\n",
    "        \n",
    "    f.close()"
   ]
  },
  {
   "cell_type": "code",
   "execution_count": 5,
   "metadata": {},
   "outputs": [],
   "source": [
    "def create_network(numArms, neuronsPerArm, epochs, weights, probabilities, votingEpoch=128):\n",
    "    assert len(weights) == numArms, \"Must provide number of weights equal to number of arms.\"\n",
    "    assert len(probabilities) == numArms, \"Must provide probability for each arm's reward.\"\n",
    "    for p in probabilities:\n",
    "        assert p in range(0,100+1), \"Probabilities must be represented as int from 0-100.\"\n",
    "    totalNeurons = neuronsPerArm * numArms\n",
    "\n",
    "    #create the network\n",
    "    net = nx.NxNet()\n",
    "    #set up the noisy source neuron prototype\n",
    "    p_2Fire = nx.CompartmentPrototype(biasMant=0,\n",
    "                            biasExp=0,\n",
    "                            vThMant=4,\n",
    "                            compartmentVoltageDecay=0,\n",
    "                            compartmentCurrentDecay=0,\n",
    "\n",
    "                            enableNoise=0,\n",
    "                            randomizeVoltage=0,\n",
    "                            randomizeCurrent=0,\n",
    "                            noiseMantAtCompartment=0,\n",
    "                            noiseExpAtCompartment=0,\n",
    "                            functionalState=nx.COMPARTMENT_FUNCTIONAL_STATE.IDLE,\n",
    "                             logicalCoreId=0)\n",
    "    \n",
    "    #set up the integrative prototype\n",
    "    p_Compare = nx.CompartmentPrototype(biasMant=0,\n",
    "                            biasExp=0,\n",
    "                            vThMant=100,\n",
    "                            compartmentVoltageDecay=0,\n",
    "                            compartmentCurrentDecay=2048,\n",
    "\n",
    "                            enableNoise=1,\n",
    "                            randomizeVoltage=0,\n",
    "                            randomizeCurrent=1,\n",
    "                            noiseMantAtCompartment=0,\n",
    "                            noiseExpAtCompartment=7,\n",
    "                            functionalState=nx.COMPARTMENT_FUNCTIONAL_STATE.IDLE,\n",
    "                             logicalCoreId=1)\n",
    "    \n",
    "    #TEST\n",
    "    p_Integrator = nx.CompartmentPrototype(biasMant=0,\n",
    "                            biasExp=0,\n",
    "                            vThMant=254,\n",
    "                            compartmentVoltageDecay=0,\n",
    "                            compartmentCurrentDecay=4095,\n",
    "\n",
    "                            enableNoise=0,\n",
    "                            randomizeVoltage=0,\n",
    "                            randomizeCurrent=1,\n",
    "                            noiseExpAtCompartment=7,\n",
    "                            functionalState=nx.COMPARTMENT_FUNCTIONAL_STATE.IDLE,\n",
    "                             logicalCoreId=1)\n",
    "\n",
    "    #set up the learning rule that will control weight changes\n",
    "    lr = net.createLearningRule(dw='u0*r1',\n",
    "                                r1Impulse=2,\n",
    "                                r1TimeConstant=1,\n",
    "                                tEpoch=2,\n",
    "                                printDebug=True)\n",
    "                                #TODO - can inc/dec weight based on reward\n",
    "\n",
    "    #create the connections which drive the integrator\n",
    "    exh_connx = nx.ConnectionPrototype(weight=2,\n",
    "                                    delay=0,\n",
    "                                    enableLearning=1,\n",
    "                                    learningRule=lr,\n",
    "                                    numTagBits=8,\n",
    "                                    signMode=nx.SYNAPSE_SIGN_MODE.MIXED)\n",
    "    \n",
    "    conn0 = nx.ConnectionPrototype(weight=255,\n",
    "                                    delay=0,\n",
    "                                    signMode=nx.SYNAPSE_SIGN_MODE.MIXED)\n",
    "    \n",
    "    inh_connx = nx.ConnectionPrototype(weight=2,\n",
    "                                    delay=0,\n",
    "                                    signMode=nx.SYNAPSE_SIGN_MODE.MIXED)\n",
    "\n",
    "    \n",
    "    #TEST\n",
    "    spikeGenReward = net.createSpikeGenProcess(1)\n",
    "    spikeGenReward.addSpikes([0], [[1]])\n",
    "    \n",
    "    rtracer = net.createCompartment(prototype=p_Integrator)\n",
    "    spikeGenReward.connect(rtracer, prototype=conn0)\n",
    "    \n",
    "    #create inhibitory, excitatory, and integrative compartment groups\n",
    "    inhDriver = net.createCompartmentGroup(size=neuronsPerArm, prototype=p_2Fire)\n",
    "    exhDriver = net.createCompartmentGroup(size=neuronsPerArm, prototype=p_2Fire)\n",
    "    comparator = net.createCompartmentGroup(size=neuronsPerArm, prototype=p_Compare)\n",
    "\n",
    "    exhGrp = exhDriver.connect(comparator,\n",
    "                  prototype=exh_connx,\n",
    "                  weight= np.repeat(weights, neuronsPerArm) * np.identity(neuronsPerArm),\n",
    "                 connectionMask=np.identity(neuronsPerArm))\n",
    "\n",
    "    inhGrp = inhDriver.connect(comparator,\n",
    "                  prototype=inh_connx,\n",
    "                  weight=-50*np.identity(neuronsPerArm),\n",
    "                 connectionMask=np.identity(neuronsPerArm))\n",
    "    \n",
    "    rconnx = rtracer.connect(lr.reinforcementChannel, prototype=exh_connx)\n",
    "    rmon = rconnx.probe(nx.ProbeParameter.REWARD_TRACE)\n",
    "\n",
    "\n",
    "    #setup the spike monitor\n",
    "    customSpikeProbeCond = SpikeProbeCondition(tStart=10000000)\n",
    "    monitors = comparator.probe(nx.ProbeParameter.SPIKE, customSpikeProbeCond)\n",
    "    wmon = (exhGrp.probe(nx.ProbeParameter.SYNAPSE_WEIGHT))\n",
    "    \n",
    "    \n",
    "    \n",
    "    #compile the network so we can add channels for the SNIPs\n",
    "    compiler = nx.N2Compiler()\n",
    "    board = compiler.compile(net)\n",
    "    #get the location of the reinforcementChannel\n",
    "    rc_loc = net.resourceMap.reinforcementChannel(0)\n",
    "\n",
    "    #setup the management SNIP to calculate rewards and choose numArms\n",
    "    includeDir = os.getcwd()\n",
    "    learning = board.createSnip(Phase.EMBEDDED_MGMT,\n",
    "                                 includeDir=includeDir,\n",
    "                                 cFilePath = includeDir + \"/management.c\",\n",
    "                                 funcName = \"run_cycle\",\n",
    "                                 guardName = \"check\")\n",
    "\n",
    "    #create a channel to communicate with the Lakemont what the probability of each arm is\n",
    "    #have to transfer the number of arms, neurons per arm, and the probeID listening to each neuron\n",
    "    setupChannel = board.createChannel(b'setupChannel', \"int\", numArms + 5 + totalNeurons)\n",
    "    setupChannel.connect(None, learning)\n",
    "    #setup the channels which will transfer the chosen arm\n",
    "    dataChannel = board.createChannel(b'dataChannel', \"int\", (epochs+1))\n",
    "    dataChannel.connect(learning, None)\n",
    "    #and the reward for that arm\n",
    "    rewardChannel = board.createChannel(b'rewardChannel', \"int\", (epochs+1))\n",
    "    rewardChannel.connect(learning, None)\n",
    "    \n",
    "    #write the parameters into the file since we can't use dynamic allocation ;_;\n",
    "    set_params_file(numArms, neuronsPerArm)\n",
    "    \n",
    "    #boot the board\n",
    "    board.startDriver()\n",
    "    #set the length of the voting period\n",
    "    setupChannel.write(1, [votingEpoch])\n",
    "    #write the location of the reinforcementChannel we can send reward events to\n",
    "    #done in for loop as not sure how tuple vs list might affect writing...\n",
    "    for i in range(4):\n",
    "        setupChannel.write(1, [rc_loc[0][i]])\n",
    "    #set the reward probabilities\n",
    "    setupChannel.write(numArms, probabilities)\n",
    "    \n",
    "    \n",
    "    #and the map for probeid <-> neuron\n",
    "    pids = [monitors[0].probes[i].n2Probe.counterId for i in range(neuronsPerArm)] \n",
    "    setupChannel.write(1, [pids[0]])\n",
    "\n",
    "    return (net, board, monitors, dataChannel, rewardChannel, wmon, rmon)"
   ]
  },
  {
   "cell_type": "code",
   "execution_count": 6,
   "metadata": {
    "scrolled": false
   },
   "outputs": [],
   "source": [
    "#probs = [90, 10, 10, 10, 10]\n",
    "numArms = 1\n",
    "probs = 50 * np.ones(numArms, dtype='int')\n",
    "#weights = np.linspace(50, 100, num=5, dtype='int')\n",
    "weights = 100*np.ones(numArms, dtype='int')\n",
    "neuronsPerArm = 1\n",
    "votingEpoch = 128\n",
    "totalNeurons = numArms * neuronsPerArm\n",
    "epochs = 10"
   ]
  },
  {
   "cell_type": "code",
   "execution_count": 7,
   "metadata": {
    "scrolled": false
   },
   "outputs": [
    {
     "name": "stdout",
     "output_type": "stream",
     "text": [
      "\u001b[1;30mWARNING\u001b[0m:\u001b[34mDRV\u001b[0m:  \u001b[33melementType would be deprecated in 0.9 in favor of messageSize, which provides more flexibility\u001b[0m\n",
      "\u001b[1;30mWARNING\u001b[0m:\u001b[34mDRV\u001b[0m:  \u001b[33melementType would be deprecated in 0.9 in favor of messageSize, which provides more flexibility\u001b[0m\n",
      "\u001b[1;30mWARNING\u001b[0m:\u001b[34mDRV\u001b[0m:  \u001b[33melementType would be deprecated in 0.9 in favor of messageSize, which provides more flexibility\u001b[0m\n",
      "\u001b[1;30mINFO\u001b[0m:\u001b[34mDRV\u001b[0m:  SLURM is being run in background\n",
      "\u001b[1;30mINFO\u001b[0m:\u001b[34mDRV\u001b[0m:  Connecting to 10.212.98.106:46279\n",
      "\u001b[1;30mINFO\u001b[0m:\u001b[34mDRV\u001b[0m:      Host server up..............Done 0.19s\n",
      "    Compiling Embedded snips... \r"
     ]
    },
    {
     "name": "stderr",
     "output_type": "stream",
     "text": [
      "/homes/wolin/python3_venv/lib/python3.5/site-packages/ipykernel_launcher.py:141: NxDeprecationWarning: startDriver is being deprecated. Use start instead.\n"
     ]
    },
    {
     "name": "stdout",
     "output_type": "stream",
     "text": [
      "\u001b[1;30mINFO\u001b[0m:\u001b[34mDRV\u001b[0m:      Compiling Embedded snips....Done 0.39s\n",
      "\u001b[1;30mINFO\u001b[0m:\u001b[34mDRV\u001b[0m:      Encoding axons/synapses.....Done 2.45ms\n",
      "\u001b[1;30mINFO\u001b[0m:\u001b[34mHST\u001b[0m:  Args chip=0 cpu=0 /homes/wolin/python3_venv/lib/python3.5/site-packages/nxsdk/driver/compilers/../../../temp/1573770549.2456377/launcher_chip0_lmt0.bin --chips=1 --remote-relay=1 --epoch=2 \n",
      "\u001b[1;30mINFO\u001b[0m:\u001b[34mDRV\u001b[0m:      Booting up..................Done 2.55s\n",
      "\u001b[1;30mINFO\u001b[0m:\u001b[34mDRV\u001b[0m:      Encoding probes.............Done 0.92ms\n",
      "\u001b[1;30mINFO\u001b[0m:\u001b[34mDRV\u001b[0m:      Transferring probes.........Done 3.11ms\n",
      "\u001b[1;30mINFO\u001b[0m:\u001b[34mDRV\u001b[0m:      Configuring registers.......Done 8.55ms\n",
      "\u001b[1;30mINFO\u001b[0m:\u001b[34mDRV\u001b[0m:      Transferring spikes.........Done 3.88ms\n",
      "\u001b[1;30mINFO\u001b[0m:\u001b[34mHST\u001b[0m:  Lakemont_driver...\n",
      "\u001b[1;30mINFO\u001b[0m:\u001b[34mDRV\u001b[0m:      Executing...................Done 0.09s\n",
      "\u001b[1;30mINFO\u001b[0m:\u001b[34mDRV\u001b[0m:      Processing timeseries.......Done 0.03s\n",
      "\u001b[1;30mINFO\u001b[0m:\u001b[34mDRV\u001b[0m:  Executor: 1281 timesteps........Done 0.15s\n"
     ]
    }
   ],
   "source": [
    "(net, board, mons, dchannel, rchannel, ws, rmon) = create_network(numArms, neuronsPerArm, epochs, weights, probs, votingEpoch=votingEpoch)\n",
    "board.run(votingEpoch*epochs+1)"
   ]
  },
  {
   "cell_type": "code",
   "execution_count": 8,
   "metadata": {},
   "outputs": [],
   "source": [
    "data = dchannel.read(epochs)"
   ]
  },
  {
   "cell_type": "code",
   "execution_count": 9,
   "metadata": {},
   "outputs": [],
   "source": [
    "rewards = rchannel.read(epochs)"
   ]
  },
  {
   "cell_type": "code",
   "execution_count": 10,
   "metadata": {},
   "outputs": [
    {
     "name": "stdout",
     "output_type": "stream",
     "text": [
      "\u001b[1;30mINFO\u001b[0m:\u001b[34mHST\u001b[0m:  chip=0 cpu=0 halted, status=0x0\n"
     ]
    }
   ],
   "source": [
    "board.disconnect()"
   ]
  },
  {
   "cell_type": "code",
   "execution_count": 11,
   "metadata": {},
   "outputs": [
    {
     "data": {
      "text/plain": [
       "[0, 0, 0, 0, 0, 0, 0, 0, 0, 0]"
      ]
     },
     "execution_count": 11,
     "metadata": {},
     "output_type": "execute_result"
    }
   ],
   "source": [
    "data"
   ]
  },
  {
   "cell_type": "code",
   "execution_count": 12,
   "metadata": {},
   "outputs": [
    {
     "data": {
      "text/plain": [
       "[1, 0, 1, 1, 0, 0, 0, 1, 0, 1]"
      ]
     },
     "execution_count": 12,
     "metadata": {},
     "output_type": "execute_result"
    }
   ],
   "source": [
    "rewards"
   ]
  },
  {
   "cell_type": "code",
   "execution_count": 13,
   "metadata": {},
   "outputs": [
    {
     "data": {
      "text/plain": [
       "[<matplotlib.lines.Line2D at 0x7f2f7c1aa668>]"
      ]
     },
     "execution_count": 13,
     "metadata": {},
     "output_type": "execute_result"
    },
    {
     "data": {
      "image/png": "[encoded data removed]",
      "text/plain": [
       "<Figure size 432x288 with 1 Axes>"
      ]
     },
     "metadata": {
      "needs_background": "light"
     },
     "output_type": "display_data"
    }
   ],
   "source": [
    "plt.figure()\n",
    "plt.plot(ws[0][0].data)\n",
    "plt.plot(rmon[0].data)"
   ]
  },
  {
   "cell_type": "code",
   "execution_count": 14,
   "metadata": {},
   "outputs": [],
   "source": [
    "w0d = np.diff(np.array(ws[0][0].data))"
   ]
  },
  {
   "cell_type": "code",
   "execution_count": 15,
   "metadata": {},
   "outputs": [
    {
     "data": {
      "text/plain": [
       "[<matplotlib.lines.Line2D at 0x7f2f7c9d6588>]"
      ]
     },
     "execution_count": 15,
     "metadata": {},
     "output_type": "execute_result"
    },
    {
     "data": {
      "image/png": "[encoded data removed]",
      "text/plain": [
       "<Figure size 432x288 with 1 Axes>"
      ]
     },
     "metadata": {
      "needs_background": "light"
     },
     "output_type": "display_data"
    }
   ],
   "source": [
    "plt.plot(w0d)"
   ]
  },
  {
   "cell_type": "code",
   "execution_count": 16,
   "metadata": {},
   "outputs": [
    {
     "data": {
      "text/plain": [
       "[<matplotlib.lines.Line2D at 0x7f2f7c995b70>]"
      ]
     },
     "execution_count": 16,
     "metadata": {},
     "output_type": "execute_result"
    },
    {
     "data": {
      "image/png": "[encoded data removed]",
      "text/plain": [
       "<Figure size 432x288 with 1 Axes>"
      ]
     },
     "metadata": {
      "needs_background": "light"
     },
     "output_type": "display_data"
    }
   ],
   "source": [
    "plt.plot(rmon[0].data)"
   ]
  },
  {
   "cell_type": "code",
   "execution_count": null,
   "metadata": {},
   "outputs": [],
   "source": []
  },
  {
   "cell_type": "code",
   "execution_count": 17,
   "metadata": {},
   "outputs": [
    {
     "data": {
      "text/plain": [
       "34"
      ]
     },
     "execution_count": 17,
     "metadata": {},
     "output_type": "execute_result"
    }
   ],
   "source": [
    "np.sum(rmon[0].data)"
   ]
  },
  {
   "cell_type": "code",
   "execution_count": 18,
   "metadata": {},
   "outputs": [
    {
     "data": {
      "text/plain": [
       "[(1, 0, 1, 0)]"
      ]
     },
     "execution_count": 18,
     "metadata": {},
     "output_type": "execute_result"
    }
   ],
   "source": [
    "net.resourceMap.reinforcementChannel(0)"
   ]
  },
  {
   "cell_type": "code",
   "execution_count": null,
   "metadata": {},
   "outputs": [],
   "source": []
  },
  {
   "cell_type": "code",
   "execution_count": 19,
   "metadata": {},
   "outputs": [
    {
     "data": {
      "text/plain": [
       "[(1, 0, 1, 0)]"
      ]
     },
     "execution_count": 19,
     "metadata": {},
     "output_type": "execute_result"
    }
   ],
   "source": [
    "net.resourceMap.inputAxon(0)"
   ]
  },
  {
   "cell_type": "code",
   "execution_count": null,
   "metadata": {},
   "outputs": [],
   "source": []
  },
  {
   "cell_type": "code",
   "execution_count": 20,
   "metadata": {},
   "outputs": [
    {
     "data": {
      "text/plain": [
       "<nxsdk.compiler.resource_map.node_maps.InputAxonMap at 0x7f2f7d535550>"
      ]
     },
     "execution_count": 20,
     "metadata": {},
     "output_type": "execute_result"
    }
   ],
   "source": [
    "net.resourceMap.inputAxonMap"
   ]
  },
  {
   "cell_type": "code",
   "execution_count": 21,
   "metadata": {},
   "outputs": [
    {
     "data": {
      "text/plain": [
       "<nxsdk.compiler.resource_map.node_maps.InputAxonMap at 0x7f2f7d535550>"
      ]
     },
     "execution_count": 21,
     "metadata": {},
     "output_type": "execute_result"
    }
   ],
   "source": [
    "net.resourceMap.inputAxonMap"
   ]
  },
  {
   "cell_type": "code",
   "execution_count": 22,
   "metadata": {},
   "outputs": [
    {
     "data": {
      "text/plain": [
       "array([0, 2])"
      ]
     },
     "execution_count": 22,
     "metadata": {},
     "output_type": "execute_result"
    }
   ],
   "source": [
    "np.unique(w0d)"
   ]
  },
  {
   "cell_type": "code",
   "execution_count": 23,
   "metadata": {},
   "outputs": [],
   "source": [
    "ind1 = np.where(np.array(data) == 0)"
   ]
  },
  {
   "cell_type": "code",
   "execution_count": 24,
   "metadata": {},
   "outputs": [
    {
     "data": {
      "text/plain": [
       "0.5"
      ]
     },
     "execution_count": 24,
     "metadata": {},
     "output_type": "execute_result"
    }
   ],
   "source": [
    "np.mean(np.array(rewards)[ind1])"
   ]
  },
  {
   "cell_type": "code",
   "execution_count": 25,
   "metadata": {},
   "outputs": [],
   "source": [
    "ind2 = np.where(np.array(data) != 0)"
   ]
  },
  {
   "cell_type": "code",
   "execution_count": 26,
   "metadata": {},
   "outputs": [
    {
     "name": "stderr",
     "output_type": "stream",
     "text": [
      "/homes/wolin/python3_venv/lib/python3.5/site-packages/numpy/core/fromnumeric.py:2957: RuntimeWarning: Mean of empty slice.\n",
      "  out=out, **kwargs)\n",
      "/homes/wolin/python3_venv/lib/python3.5/site-packages/numpy/core/_methods.py:80: RuntimeWarning: invalid value encountered in double_scalars\n",
      "  ret = ret.dtype.type(ret / rcount)\n"
     ]
    },
    {
     "data": {
      "text/plain": [
       "nan"
      ]
     },
     "execution_count": 26,
     "metadata": {},
     "output_type": "execute_result"
    }
   ],
   "source": [
    "np.mean(np.array(rewards)[ind2])"
   ]
  },
  {
   "cell_type": "code",
   "execution_count": 27,
   "metadata": {},
   "outputs": [
    {
     "data": {
      "text/plain": [
       "(array([10.,  0.,  0.,  0.,  0.]),\n",
       " array([-0.5,  0.5,  1.5,  2.5,  3.5,  4.5]),\n",
       " <a list of 5 Patch objects>)"
      ]
     },
     "execution_count": 27,
     "metadata": {},
     "output_type": "execute_result"
    },
    {
     "data": {
      "image/png": "[encoded data removed]",
      "text/plain": [
       "<Figure size 432x288 with 1 Axes>"
      ]
     },
     "metadata": {
      "needs_background": "light"
     },
     "output_type": "display_data"
    }
   ],
   "source": [
    "plt.hist(data, bins=np.arange(0,6)-0.5)"
   ]
  },
  {
   "cell_type": "code",
   "execution_count": null,
   "metadata": {},
   "outputs": [],
   "source": []
  },
  {
   "cell_type": "code",
   "execution_count": null,
   "metadata": {},
   "outputs": [],
   "source": []
  }
 ],
 "metadata": {
  "kernelspec": {
   "display_name": "Python 3",
   "language": "python",
   "name": "python3"
  },
  "language_info": {
   "codemirror_mode": {
    "name": "ipython",
    "version": 3
   },
   "file_extension": ".py",
   "mimetype": "text/x-python",
   "name": "python",
   "nbconvert_exporter": "python",
   "pygments_lexer": "ipython3",
   "version": "3.5.2"
  }
 },
 "nbformat": 4,
 "nbformat_minor": 2
}
