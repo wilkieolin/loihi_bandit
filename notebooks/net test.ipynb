{
 "cells": [
  {
   "cell_type": "code",
   "execution_count": 1,
   "metadata": {},
   "outputs": [],
   "source": [
    "import os\n",
    "import nxsdk.api.n2a as nx\n",
    "import numpy as np\n",
    "import matplotlib.pyplot as plt\n",
    "from nxsdk.graph.monitor.probes import *\n",
    "from nxsdk.graph.processes.phase_enums import Phase"
   ]
  },
  {
   "cell_type": "code",
   "execution_count": 2,
   "metadata": {},
   "outputs": [],
   "source": [
    "import re"
   ]
  },
  {
   "cell_type": "code",
   "execution_count": 3,
   "metadata": {},
   "outputs": [],
   "source": [
    "import matplotlib.pyplot as plt"
   ]
  },
  {
   "cell_type": "code",
   "execution_count": 4,
   "metadata": {},
   "outputs": [],
   "source": [
    "def set_params_file(numArms, neuronsPerArm):\n",
    "    filename = os.getcwd()+'/parameters.h'\n",
    "    \n",
    "    with open(filename) as f:\n",
    "        data = f.readlines()\n",
    "        \n",
    "    f = open(filename, \"w\")\n",
    "    for line in data:\n",
    "\n",
    "        #update numarms\n",
    "        m = re.match(r'^#define\\s+NUMARMS', line)\n",
    "        if m is not None:\n",
    "            line = '#define NUMARMS ' + str(numArms) + '\\n'\n",
    "\n",
    "        #update neuronsperarm\n",
    "        m = re.match(r'^#define\\s+NEURONSPERARM', line)\n",
    "        if m is not None:\n",
    "            line = '#define NEURONSPERARM ' + str(neuronsPerArm) + '\\n'\n",
    "\n",
    "        f.write(line)\n",
    "        \n",
    "    f.close()"
   ]
  },
  {
   "cell_type": "markdown",
   "metadata": {},
   "source": [
    "-1*2^6*u0 + 2*r1*u0"
   ]
  },
  {
   "cell_type": "code",
   "execution_count": 5,
   "metadata": {},
   "outputs": [],
   "source": [
    "def create_network(numArms, neuronsPerArm, epochs, weights, probabilities, votingEpoch=128):\n",
    "    assert len(weights) == numArms, \"Must provide number of weights equal to number of arms.\"\n",
    "    assert len(probabilities) == numArms, \"Must provide probability for each arm's reward.\"\n",
    "    for p in probabilities:\n",
    "        assert p in range(0,100+1), \"Probabilities must be represented as int from 0-100.\"\n",
    "    totalNeurons = neuronsPerArm * numArms\n",
    "\n",
    "    #create the network\n",
    "    net = nx.NxNet()\n",
    "    #set up the noisy source neuron prototype\n",
    "    p_2Fire = nx.CompartmentPrototype(biasMant=0,\n",
    "                            biasExp=0,\n",
    "                            vThMant=4,\n",
    "                            compartmentVoltageDecay=0,\n",
    "                            compartmentCurrentDecay=0,\n",
    "\n",
    "                            enableNoise=1,\n",
    "                            randomizeVoltage=1,\n",
    "                            randomizeCurrent=0,\n",
    "                            noiseMantAtCompartment=2,\n",
    "                            noiseExpAtCompartment=7,\n",
    "                            functionalState=nx.COMPARTMENT_FUNCTIONAL_STATE.IDLE,\n",
    "                             logicalCoreId=1)\n",
    "    \n",
    "    #set up the integrative prototype\n",
    "    p_Compare = nx.CompartmentPrototype(biasMant=0,\n",
    "                            biasExp=0,\n",
    "                            vThMant=100,\n",
    "                            compartmentVoltageDecay=0,\n",
    "                            compartmentCurrentDecay=2048,\n",
    "\n",
    "                            enableNoise=1,\n",
    "                            randomizeVoltage=0,\n",
    "                            randomizeCurrent=1,\n",
    "                            noiseMantAtCompartment=0,\n",
    "                            noiseExpAtCompartment=7,\n",
    "                            functionalState=nx.COMPARTMENT_FUNCTIONAL_STATE.IDLE,\n",
    "                             logicalCoreId=0)\n",
    "    \n",
    "    #setup a neuron which can pass spikes for the reinforcement signal\n",
    "    p_Buffer = nx.CompartmentPrototype(biasMant=0,\n",
    "                            biasExp=0,\n",
    "                            vThMant=254,\n",
    "                            compartmentVoltageDecay=0,\n",
    "                            compartmentCurrentDecay=4095,\n",
    "\n",
    "                            enableNoise=0,\n",
    "                            randomizeVoltage=0,\n",
    "                            randomizeCurrent=1,\n",
    "                            noiseMantAtCompartment=0,\n",
    "                            noiseExpAtCompartment=7,\n",
    "                            functionalState=nx.COMPARTMENT_FUNCTIONAL_STATE.IDLE,\n",
    "                             logicalCoreId=0)\n",
    "    \n",
    "    learningRules = []\n",
    "    plasticPrototypes = []\n",
    "    #set up the learning rules that will control weight changes\n",
    "    for i in range(numArms):\n",
    "        lr = net.createLearningRule(dw='u0*r1',\n",
    "                                    r1Impulse=2,\n",
    "                                    r1TimeConstant=1,\n",
    "                                    tEpoch=2,\n",
    "                                    printDebug=True)\n",
    "                                    #TODO - can inc/dec weight based on reward\n",
    "        learningRules.append(lr)\n",
    "        \n",
    "        #create the connections which drive the integrator\n",
    "        exh_connx = nx.ConnectionPrototype(weight=2,\n",
    "                                    delay=0,\n",
    "                                    enableLearning=1,\n",
    "                                    learningRule=lr,\n",
    "                                    numTagBits=8,\n",
    "                                    signMode=nx.SYNAPSE_SIGN_MODE.MIXED)\n",
    "        plasticPrototypes.append(exh_connx)\n",
    "    \n",
    "\n",
    "    \n",
    "\n",
    "   \n",
    "    \n",
    "    conn0 = nx.ConnectionPrototype(weight=255,\n",
    "                                    delay=0,\n",
    "                                    signMode=nx.SYNAPSE_SIGN_MODE.MIXED)\n",
    "    \n",
    "    inh_connx = nx.ConnectionPrototype(weight=2,\n",
    "                                    delay=0,\n",
    "                                    signMode=nx.SYNAPSE_SIGN_MODE.MIXED)\n",
    "\n",
    "    compartmentGroups = []\n",
    "    buffers = []\n",
    "    \n",
    "    synapseGroups = []\n",
    "    monitors = []\n",
    "    wmon = []\n",
    "\n",
    "    for arm in range(numArms):\n",
    "        w = weights[arm]\n",
    "\n",
    "        #create inhibitory, excitatory, and integrative compartment groups\n",
    "        inhDriver = net.createCompartmentGroup(size=neuronsPerArm, prototype=p_2Fire)\n",
    "        exhDriver = net.createCompartmentGroup(size=neuronsPerArm, prototype=p_2Fire)\n",
    "        comparator = net.createCompartmentGroup(size=neuronsPerArm, prototype=p_Compare)\n",
    "        compartmentGroups.append(inhDriver)\n",
    "        compartmentGroups.append(exhDriver)\n",
    "        compartmentGroups.append(comparator)\n",
    "        #create the reward buffer\n",
    "        buffer = net.createCompartment(prototype=p_Buffer)\n",
    "        buffers.append(buffer)\n",
    "        \n",
    "        #connect the learning (excitatory) synapse to the comparator\n",
    "        exhGrp = exhDriver.connect(comparator,\n",
    "                      prototype=plasticPrototypes[arm],\n",
    "                      weight= np.repeat(w, neuronsPerArm) * np.identity(neuronsPerArm),\n",
    "                     connectionMask=np.identity(neuronsPerArm))\n",
    "\n",
    "        #connect the inhibitory (nonlearning) synapse to the comparator\n",
    "        inhGrp = inhDriver.connect(comparator,\n",
    "                      prototype=inh_connx,\n",
    "                      weight=-50*np.identity(neuronsPerArm),\n",
    "                     connectionMask=np.identity(neuronsPerArm))\n",
    "                     \n",
    "        synapseGroups.append(exhGrp)\n",
    "        synapseGroups.append(inhGrp)\n",
    "        #setup the spike monitor\n",
    "        #don't start it or this will interfere with the SNIP counting spikes\n",
    "        customSpikeProbeCond = SpikeProbeCondition(tStart=10000000)\n",
    "        monitors.append(comparator.probe(nx.ProbeParameter.SPIKE, customSpikeProbeCond))\n",
    "        wmon.append(exhGrp.probe(nx.ProbeParameter.SYNAPSE_WEIGHT))\n",
    "        \n",
    "    \n",
    "    #connect dummy reward generator to the buffers\n",
    "    spikeGenReward = net.createSpikeGenProcess(1)\n",
    "    spikeGenReward.addSpikes([0], [(np.arange(10)*10+1).tolist()])\n",
    "    \n",
    "    rmon = []\n",
    "    #connect it to the buffers\n",
    "    for i in range(numArms):\n",
    "        #get the learning rule and buffer for this arm\n",
    "        lr = learningRules[i]\n",
    "        buffer = buffers[i]\n",
    "        #connect the generator to the buffer\n",
    "        spikeGenReward.connect(buffer, prototype=conn0)\n",
    "        #connect the buffer to the right reinforcementChannel\n",
    "        bconnx = buffer.connect(lr.reinforcementChannel, prototype = conn0)\n",
    "        synapseGroups.append(bconnx)\n",
    "        #add a reinforcement monitor\n",
    "        rmon.append(bconnx.probe(nx.ProbeParameter.REWARD_TRACE))\n",
    "        \n",
    "    \n",
    "    #compile the network so we can add channels for the SNIPs\n",
    "    compiler = nx.N2Compiler()\n",
    "    board = compiler.compile(net)\n",
    "    #get the location of the reinforcementChannel\n",
    "    rc_loc = net.resourceMap.reinforcementChannel(0)\n",
    "\n",
    "    #setup the management SNIP to calculate rewards and choose numArms\n",
    "    includeDir = os.getcwd()\n",
    "    learning = board.createSnip(Phase.EMBEDDED_MGMT,\n",
    "                                 includeDir=includeDir,\n",
    "                                 cFilePath = includeDir + \"/management.c\",\n",
    "                                 funcName = \"run_cycle\",\n",
    "                                 guardName = \"check\")\n",
    "\n",
    "    #create a channel to communicate with the Lakemont what the probability of each arm is\n",
    "    #have to transfer the number of arms, neurons per arm, and the probeID listening to each neuron\n",
    "    setupChannel = board.createChannel(b'setupChannel', \"int\", numArms + 5 + totalNeurons)\n",
    "    setupChannel.connect(None, learning)\n",
    "    #setup the channels which will transfer the chosen arm\n",
    "    dataChannel = board.createChannel(b'dataChannel', \"int\", (epochs+1))\n",
    "    dataChannel.connect(learning, None)\n",
    "    #and the reward for that arm\n",
    "    rewardChannel = board.createChannel(b'rewardChannel', \"int\", (epochs+1))\n",
    "    rewardChannel.connect(learning, None)\n",
    "    \n",
    "    #write the parameters into the file since we can't use dynamic allocation ;_;\n",
    "    set_params_file(numArms, neuronsPerArm)\n",
    "    \n",
    "    #boot the board\n",
    "    board.startDriver()\n",
    "    #set the length of the voting period\n",
    "    setupChannel.write(1, [votingEpoch])\n",
    "    #write the location of the reinforcementChannel we can send reward events to\n",
    "    #done in for loop as not sure how tuple vs list might affect writing...\n",
    "    for i in range(4):\n",
    "        setupChannel.write(1, [rc_loc[0][i]])\n",
    "    #set the reward probabilities\n",
    "    setupChannel.write(numArms, probabilities)\n",
    "    \n",
    "    \n",
    "    #and the map for probeid <-> neuron\n",
    "    pids = [[monitors[j][0].probes[i].n2Probe.counterId for i in range(neuronsPerArm)] for j in range(numArms)]\n",
    "    for i in range(numArms):\n",
    "        for j in range(neuronsPerArm):\n",
    "            setupChannel.write(1, [pids[i][j]])\n",
    "\n",
    "    return (net, board, monitors, dataChannel, rewardChannel, wmon, rmon)"
   ]
  },
  {
   "cell_type": "code",
   "execution_count": 82,
   "metadata": {},
   "outputs": [
    {
     "data": {
      "text/plain": [
       "1"
      ]
     },
     "execution_count": 82,
     "metadata": {},
     "output_type": "execute_result"
    }
   ],
   "source": [
    "board.id"
   ]
  },
  {
   "cell_type": "code",
   "execution_count": 83,
   "metadata": {},
   "outputs": [
    {
     "data": {
      "text/plain": [
       "True"
      ]
     },
     "execution_count": 83,
     "metadata": {},
     "output_type": "execute_result"
    }
   ],
   "source": [
    "hasattr(board, 'id')"
   ]
  },
  {
   "cell_type": "code",
   "execution_count": 6,
   "metadata": {
    "scrolled": false
   },
   "outputs": [],
   "source": [
    "#probs = [90, 10, 10, 10, 10]\n",
    "numArms = 1\n",
    "probs = 100 * np.ones(numArms, dtype='int')\n",
    "#weights = np.linspace(50, 100, num=5, dtype='int')\n",
    "weights = 100*np.ones(numArms, dtype='int')\n",
    "neuronsPerArm = 1\n",
    "votingEpoch = 128\n",
    "totalNeurons = numArms * neuronsPerArm\n",
    "epochs = 10"
   ]
  },
  {
   "cell_type": "code",
   "execution_count": 7,
   "metadata": {
    "scrolled": false
   },
   "outputs": [
    {
     "name": "stdout",
     "output_type": "stream",
     "text": [
      "\u001b[1;30mWARNING\u001b[0m:\u001b[34mDRV\u001b[0m:  \u001b[33melementType would be deprecated in 0.9 in favor of messageSize, which provides more flexibility\u001b[0m\n",
      "\u001b[1;30mWARNING\u001b[0m:\u001b[34mDRV\u001b[0m:  \u001b[33melementType would be deprecated in 0.9 in favor of messageSize, which provides more flexibility\u001b[0m\n",
      "\u001b[1;30mWARNING\u001b[0m:\u001b[34mDRV\u001b[0m:  \u001b[33melementType would be deprecated in 0.9 in favor of messageSize, which provides more flexibility\u001b[0m\n",
      "\u001b[1;30mINFO\u001b[0m:\u001b[34mDRV\u001b[0m:  SLURM is being run in background\n",
      "\u001b[1;30mINFO\u001b[0m:\u001b[34mDRV\u001b[0m:  Connecting to 10.212.98.103:34449\n"
     ]
    },
    {
     "name": "stderr",
     "output_type": "stream",
     "text": [
      "/homes/wolin/python3_venv/lib/python3.5/site-packages/ipykernel_launcher.py:179: NxDeprecationWarning: startDriver is being deprecated. Use start instead.\n"
     ]
    },
    {
     "name": "stdout",
     "output_type": "stream",
     "text": [
      "\u001b[1;30mINFO\u001b[0m:\u001b[34mDRV\u001b[0m:      Host server up..............Done 0.20s\n",
      "\u001b[1;30mINFO\u001b[0m:\u001b[34mDRV\u001b[0m:      Compiling Embedded snips....Done 0.43s\n",
      "\u001b[1;30mINFO\u001b[0m:\u001b[34mDRV\u001b[0m:      Encoding axons/synapses.....Done 2.45ms\n",
      "\u001b[1;30mINFO\u001b[0m:\u001b[34mDRV\u001b[0m:      Encoding probes.............Done 1.05ms\n",
      "\u001b[1;30mINFO\u001b[0m:\u001b[34mHST\u001b[0m:  Args chip=0 cpu=0 /homes/wolin/python3_venv/lib/python3.5/site-packages/nxsdk/driver/compilers/../../../temp/1573776402.703237/launcher_chip0_lmt0.bin --chips=1 --remote-relay=1 --epoch=2 \n",
      "\u001b[1;30mINFO\u001b[0m:\u001b[34mHST\u001b[0m:  Lakemont_driver...\n",
      "\u001b[1;30mINFO\u001b[0m:\u001b[34mDRV\u001b[0m:      Booting up..................Done 2.64s\n",
      "\u001b[1;30mINFO\u001b[0m:\u001b[34mDRV\u001b[0m:      Transferring probes.........Done 3.20ms\n",
      "\u001b[1;30mINFO\u001b[0m:\u001b[34mDRV\u001b[0m:      Configuring registers.......Done 8.12ms\n",
      "\u001b[1;30mINFO\u001b[0m:\u001b[34mDRV\u001b[0m:      Transferring spikes.........Done 2.11ms\n",
      "\u001b[1;30mINFO\u001b[0m:\u001b[34mDRV\u001b[0m:      Executing...................Done 0.09s\n",
      "\u001b[1;30mINFO\u001b[0m:\u001b[34mDRV\u001b[0m:      Processing timeseries.......Done 0.04s\n",
      "\u001b[1;30mINFO\u001b[0m:\u001b[34mDRV\u001b[0m:  Executor: 1281 timesteps........Done 0.15s\n",
      "\u001b[1;30mINFO\u001b[0m:\u001b[34mHST\u001b[0m:  chip=0 cpu=0 halted, status=0x0\n"
     ]
    }
   ],
   "source": [
    "(net, board, mons, dchannel, rchannel, ws, rmon) = create_network(numArms, neuronsPerArm, epochs, weights, probs, votingEpoch=votingEpoch)\n",
    "board.run(votingEpoch*epochs+1)\n",
    "data = dchannel.read(epochs)\n",
    "rewards = rchannel.read(epochs)\n",
    "board.disconnect()"
   ]
  },
  {
   "cell_type": "code",
   "execution_count": 8,
   "metadata": {
    "scrolled": true
   },
   "outputs": [
    {
     "data": {
      "text/plain": [
       "[0, 0, 0, 0, 0, 0, 0, 0, 0, 0]"
      ]
     },
     "execution_count": 8,
     "metadata": {},
     "output_type": "execute_result"
    }
   ],
   "source": [
    "data"
   ]
  },
  {
   "cell_type": "code",
   "execution_count": 9,
   "metadata": {},
   "outputs": [
    {
     "data": {
      "text/plain": [
       "[1, 1, 1, 1, 1, 1, 1, 1, 1, 1]"
      ]
     },
     "execution_count": 9,
     "metadata": {},
     "output_type": "execute_result"
    }
   ],
   "source": [
    "rewards"
   ]
  },
  {
   "cell_type": "code",
   "execution_count": 77,
   "metadata": {},
   "outputs": [
    {
     "ename": "IndexError",
     "evalue": "list index out of range",
     "output_type": "error",
     "traceback": [
      "\u001b[0;31m---------------------------------------------------------------------------\u001b[0m",
      "\u001b[0;31mIndexError\u001b[0m                                Traceback (most recent call last)",
      "\u001b[0;32m<ipython-input-77-e97dcab863ab>\u001b[0m in \u001b[0;36m<module>\u001b[0;34m\u001b[0m\n\u001b[1;32m      1\u001b[0m \u001b[0mplt\u001b[0m\u001b[0;34m.\u001b[0m\u001b[0mfigure\u001b[0m\u001b[0;34m(\u001b[0m\u001b[0;34m)\u001b[0m\u001b[0;34m\u001b[0m\u001b[0m\n\u001b[1;32m      2\u001b[0m \u001b[0;32mfor\u001b[0m \u001b[0mi\u001b[0m \u001b[0;32min\u001b[0m \u001b[0mrange\u001b[0m\u001b[0;34m(\u001b[0m\u001b[0;36m5\u001b[0m\u001b[0;34m)\u001b[0m\u001b[0;34m:\u001b[0m\u001b[0;34m\u001b[0m\u001b[0m\n\u001b[0;32m----> 3\u001b[0;31m     \u001b[0mplt\u001b[0m\u001b[0;34m.\u001b[0m\u001b[0mplot\u001b[0m\u001b[0;34m(\u001b[0m\u001b[0mws\u001b[0m\u001b[0;34m[\u001b[0m\u001b[0mi\u001b[0m\u001b[0;34m]\u001b[0m\u001b[0;34m[\u001b[0m\u001b[0;36m0\u001b[0m\u001b[0;34m]\u001b[0m\u001b[0;34m[\u001b[0m\u001b[0;36m0\u001b[0m\u001b[0;34m]\u001b[0m\u001b[0;34m.\u001b[0m\u001b[0mdata\u001b[0m\u001b[0;34m)\u001b[0m\u001b[0;34m\u001b[0m\u001b[0m\n\u001b[0m",
      "\u001b[0;31mIndexError\u001b[0m: list index out of range"
     ]
    },
    {
     "data": {
      "image/png": "[encoded data removed]",
      "text/plain": [
       "<Figure size 432x288 with 1 Axes>"
      ]
     },
     "metadata": {
      "needs_background": "light"
     },
     "output_type": "display_data"
    }
   ],
   "source": [
    "plt.figure()\n",
    "for i in range(5):\n",
    "    plt.plot(ws[i][0][0].data)"
   ]
  },
  {
   "cell_type": "code",
   "execution_count": 53,
   "metadata": {},
   "outputs": [],
   "source": [
    "w0d = np.diff(np.array(ws[0][0][0].data))"
   ]
  },
  {
   "cell_type": "code",
   "execution_count": 78,
   "metadata": {},
   "outputs": [
    {
     "data": {
      "text/plain": [
       "[<matplotlib.lines.Line2D at 0x7f833d72d128>]"
      ]
     },
     "execution_count": 78,
     "metadata": {},
     "output_type": "execute_result"
    },
    {
     "data": {
      "image/png": "[encoded data removed]",
      "text/plain": [
       "<Figure size 432x288 with 1 Axes>"
      ]
     },
     "metadata": {
      "needs_background": "light"
     },
     "output_type": "display_data"
    }
   ],
   "source": [
    "plt.plot(w0d)"
   ]
  },
  {
   "cell_type": "code",
   "execution_count": 79,
   "metadata": {},
   "outputs": [
    {
     "data": {
      "text/plain": [
       "[<matplotlib.lines.Line2D at 0x7f82fff59ef0>]"
      ]
     },
     "execution_count": 79,
     "metadata": {},
     "output_type": "execute_result"
    },
    {
     "data": {
      "image/png": "[encoded data removed]",
      "text/plain": [
       "<Figure size 432x288 with 1 Axes>"
      ]
     },
     "metadata": {
      "needs_background": "light"
     },
     "output_type": "display_data"
    }
   ],
   "source": [
    "plt.plot(rmon[0][0].data)"
   ]
  },
  {
   "cell_type": "code",
   "execution_count": null,
   "metadata": {},
   "outputs": [],
   "source": []
  },
  {
   "cell_type": "code",
   "execution_count": null,
   "metadata": {},
   "outputs": [],
   "source": []
  },
  {
   "cell_type": "code",
   "execution_count": 145,
   "metadata": {},
   "outputs": [
    {
     "data": {
      "text/plain": [
       "192"
      ]
     },
     "execution_count": 145,
     "metadata": {},
     "output_type": "execute_result"
    }
   ],
   "source": [
    "np.sum(rmon[0].data)"
   ]
  },
  {
   "cell_type": "code",
   "execution_count": 75,
   "metadata": {},
   "outputs": [
    {
     "data": {
      "text/plain": [
       "[(1, 0, 0, 0)]"
      ]
     },
     "execution_count": 75,
     "metadata": {},
     "output_type": "execute_result"
    }
   ],
   "source": [
    "net.resourceMap.reinforcementChannel(0)"
   ]
  },
  {
   "cell_type": "code",
   "execution_count": null,
   "metadata": {},
   "outputs": [],
   "source": []
  },
  {
   "cell_type": "code",
   "execution_count": 61,
   "metadata": {},
   "outputs": [
    {
     "data": {
      "text/plain": [
       "[(1, 0, 0, 5)]"
      ]
     },
     "execution_count": 61,
     "metadata": {},
     "output_type": "execute_result"
    }
   ],
   "source": [
    "net.resourceMap.inputAxon(0)"
   ]
  },
  {
   "cell_type": "code",
   "execution_count": null,
   "metadata": {},
   "outputs": [],
   "source": []
  },
  {
   "cell_type": "code",
   "execution_count": 55,
   "metadata": {},
   "outputs": [
    {
     "data": {
      "text/plain": [
       "<nxsdk.compiler.resource_map.node_maps.InputAxonMap at 0x7f97685fdd30>"
      ]
     },
     "execution_count": 55,
     "metadata": {},
     "output_type": "execute_result"
    }
   ],
   "source": [
    "net.resourceMap.inputAxonMap"
   ]
  },
  {
   "cell_type": "code",
   "execution_count": null,
   "metadata": {},
   "outputs": [],
   "source": [
    "net.resourceMap.inputAxonMap"
   ]
  },
  {
   "cell_type": "code",
   "execution_count": 27,
   "metadata": {},
   "outputs": [
    {
     "data": {
      "text/plain": [
       "array([-2,  0])"
      ]
     },
     "execution_count": 27,
     "metadata": {},
     "output_type": "execute_result"
    }
   ],
   "source": [
    "np.unique(w0d)"
   ]
  },
  {
   "cell_type": "code",
   "execution_count": 57,
   "metadata": {},
   "outputs": [],
   "source": [
    "ind1 = np.where(np.array(data) == 0)"
   ]
  },
  {
   "cell_type": "code",
   "execution_count": 58,
   "metadata": {},
   "outputs": [
    {
     "data": {
      "text/plain": [
       "0.9130434782608695"
      ]
     },
     "execution_count": 58,
     "metadata": {},
     "output_type": "execute_result"
    }
   ],
   "source": [
    "np.mean(np.array(rewards)[ind1])"
   ]
  },
  {
   "cell_type": "code",
   "execution_count": 59,
   "metadata": {},
   "outputs": [],
   "source": [
    "ind2 = np.where(np.array(data) != 0)"
   ]
  },
  {
   "cell_type": "code",
   "execution_count": 60,
   "metadata": {},
   "outputs": [
    {
     "data": {
      "text/plain": [
       "0.14285714285714285"
      ]
     },
     "execution_count": 60,
     "metadata": {},
     "output_type": "execute_result"
    }
   ],
   "source": [
    "np.mean(np.array(rewards)[ind2])"
   ]
  },
  {
   "cell_type": "code",
   "execution_count": 61,
   "metadata": {},
   "outputs": [
    {
     "data": {
      "text/plain": [
       "<nxsdk.graph.nxboard.N2Board at 0x7f3707c78898>"
      ]
     },
     "execution_count": 61,
     "metadata": {},
     "output_type": "execute_result"
    }
   ],
   "source": [
    "board."
   ]
  },
  {
   "cell_type": "code",
   "execution_count": 38,
   "metadata": {},
   "outputs": [
    {
     "data": {
      "text/plain": [
       "(array([23., 20., 17., 24., 16.]),\n",
       " array([-0.5,  0.5,  1.5,  2.5,  3.5,  4.5]),\n",
       " <a list of 5 Patch objects>)"
      ]
     },
     "execution_count": 38,
     "metadata": {},
     "output_type": "execute_result"
    },
    {
     "data": {
      "image/png": "[encoded data removed]",
      "text/plain": [
       "<Figure size 432x288 with 1 Axes>"
      ]
     },
     "metadata": {
      "needs_background": "light"
     },
     "output_type": "display_data"
    }
   ],
   "source": [
    "plt.hist(data, bins=np.arange(0,6)-0.5)"
   ]
  },
  {
   "cell_type": "code",
   "execution_count": 87,
   "metadata": {},
   "outputs": [
    {
     "data": {
      "text/plain": [
       "array([[[ 0,  0,  0,  1,  0],\n",
       "        [ 1,  3,  3,  0,  0],\n",
       "        [ 4,  3,  2,  1,  4],\n",
       "        [ 3,  6,  4,  6,  4],\n",
       "        [ 7,  7,  3,  4,  6]],\n",
       "\n",
       "       [[ 0,  2,  0,  0,  0],\n",
       "        [ 3,  1,  1,  1,  1],\n",
       "        [ 4,  2,  5,  4,  1],\n",
       "        [ 3,  4,  6,  8,  7],\n",
       "        [ 4, 10,  9,  6,  6]],\n",
       "\n",
       "       [[ 0,  1,  0,  0,  0],\n",
       "        [ 0,  1,  2,  0,  3],\n",
       "        [ 2,  6,  5,  3,  4],\n",
       "        [ 6,  6,  9,  4,  4],\n",
       "        [11,  7, 10, 10,  8]],\n",
       "\n",
       "       [[ 0,  0,  2,  0,  0],\n",
       "        [ 1,  2,  0,  4,  4],\n",
       "        [ 2,  3,  5,  2,  1],\n",
       "        [ 5,  5,  1,  6,  5],\n",
       "        [10, 10,  6,  8,  6]],\n",
       "\n",
       "       [[ 0,  0,  0,  0,  0],\n",
       "        [ 1,  2,  1,  3,  1],\n",
       "        [ 6,  1,  2,  3,  3],\n",
       "        [ 4,  3,  8,  6,  7],\n",
       "        [ 5,  8,  6,  8,  9]],\n",
       "\n",
       "       [[ 0,  0,  0,  0,  0],\n",
       "        [ 1,  0,  2,  0,  1],\n",
       "        [ 2,  6,  1,  2,  4],\n",
       "        [ 4,  2,  3,  5,  6],\n",
       "        [ 7,  6,  4,  6,  9]],\n",
       "\n",
       "       [[ 0,  0,  0,  0,  0],\n",
       "        [ 1,  2,  1,  0,  1],\n",
       "        [ 8,  5,  5,  2,  2],\n",
       "        [ 5,  6,  5,  4,  6],\n",
       "        [ 7,  4,  9,  5,  6]],\n",
       "\n",
       "       [[ 0,  0,  0,  0,  0],\n",
       "        [ 4,  1,  1,  2,  2],\n",
       "        [ 3,  1,  2,  6,  2],\n",
       "        [ 3,  9,  2,  3,  5],\n",
       "        [ 5,  5,  8,  6,  4]],\n",
       "\n",
       "       [[ 0,  0,  1,  0,  0],\n",
       "        [ 2,  2,  1,  1,  2],\n",
       "        [ 7,  4,  4,  5,  5],\n",
       "        [ 7,  5,  7,  1,  5],\n",
       "        [ 3,  6,  9,  7,  9]],\n",
       "\n",
       "       [[ 1,  0,  0,  0,  0],\n",
       "        [ 0,  2,  2,  4,  3],\n",
       "        [ 2,  5,  5,  7,  5],\n",
       "        [ 2,  6,  8,  1,  3],\n",
       "        [ 6, 11,  7, 13,  7]]])"
      ]
     },
     "execution_count": 87,
     "metadata": {},
     "output_type": "execute_result"
    }
   ],
   "source": [
    "np.reshape(data, (epochs, 5,5))"
   ]
  },
  {
   "cell_type": "code",
   "execution_count": 88,
   "metadata": {},
   "outputs": [
    {
     "data": {
      "text/plain": [
       "array([[ 1,  7, 14, 23, 27],\n",
       "       [ 2,  7, 16, 28, 35],\n",
       "       [ 1,  6, 20, 29, 46],\n",
       "       [ 2, 11, 13, 22, 40],\n",
       "       [ 0,  8, 15, 28, 36],\n",
       "       [ 0,  4, 15, 20, 32],\n",
       "       [ 0,  5, 22, 26, 31],\n",
       "       [ 0, 10, 14, 22, 28],\n",
       "       [ 1,  8, 25, 25, 34],\n",
       "       [ 1, 11, 24, 20, 44]])"
      ]
     },
     "execution_count": 88,
     "metadata": {},
     "output_type": "execute_result"
    }
   ],
   "source": [
    "np.sum(np.reshape(data, (epochs, 5,5)), axis=2)"
   ]
  },
  {
   "cell_type": "code",
   "execution_count": 89,
   "metadata": {},
   "outputs": [
    {
     "data": {
      "text/plain": [
       "array([  8,  77, 178, 243, 353])"
      ]
     },
     "execution_count": 89,
     "metadata": {},
     "output_type": "execute_result"
    }
   ],
   "source": [
    "np.sum(np.reshape(data, (epochs, 5,5)), axis=(2,0))"
   ]
  },
  {
   "cell_type": "code",
   "execution_count": 8,
   "metadata": {},
   "outputs": [
    {
     "data": {
      "text/plain": [
       "250"
      ]
     },
     "execution_count": 8,
     "metadata": {},
     "output_type": "execute_result"
    }
   ],
   "source": [
    "len(counts)"
   ]
  },
  {
   "cell_type": "code",
   "execution_count": 9,
   "metadata": {},
   "outputs": [],
   "source": [
    "rsc = np.reshape(counts, (epochs, numArms, neuronsPerArm))"
   ]
  },
  {
   "cell_type": "code",
   "execution_count": 10,
   "metadata": {
    "scrolled": false
   },
   "outputs": [
    {
     "data": {
      "text/plain": [
       "array([[[ 0,  0,  0,  0,  0],\n",
       "        [ 0,  0,  0,  0,  0],\n",
       "        [ 0,  0,  0,  0,  0],\n",
       "        [ 0,  0,  0,  0,  0],\n",
       "        [ 7,  7,  0,  0,  0]],\n",
       "\n",
       "       [[ 0,  0,  0,  0,  0],\n",
       "        [ 0,  0,  0,  0,  0],\n",
       "        [ 0,  0,  0,  0,  0],\n",
       "        [ 0,  0,  0,  0,  0],\n",
       "        [ 4, 10,  0,  0,  0]],\n",
       "\n",
       "       [[ 0,  0,  0,  0,  0],\n",
       "        [ 0,  0,  0,  0,  0],\n",
       "        [ 0,  0,  0,  0,  0],\n",
       "        [ 0,  0,  0,  0,  0],\n",
       "        [11,  7,  0,  0,  0]],\n",
       "\n",
       "       [[ 0,  0,  0,  0,  0],\n",
       "        [ 0,  0,  0,  0,  0],\n",
       "        [ 0,  0,  0,  0,  0],\n",
       "        [ 0,  0,  0,  0,  0],\n",
       "        [10, 10,  0,  0,  0]],\n",
       "\n",
       "       [[ 0,  0,  0,  0,  0],\n",
       "        [ 0,  0,  0,  0,  0],\n",
       "        [ 0,  0,  0,  0,  0],\n",
       "        [ 0,  0,  0,  0,  0],\n",
       "        [ 5,  8,  0,  0,  0]],\n",
       "\n",
       "       [[ 0,  0,  0,  0,  0],\n",
       "        [ 0,  0,  0,  0,  0],\n",
       "        [ 0,  0,  0,  0,  0],\n",
       "        [ 0,  0,  0,  0,  0],\n",
       "        [ 7,  6,  0,  0,  0]],\n",
       "\n",
       "       [[ 0,  0,  0,  0,  0],\n",
       "        [ 0,  0,  0,  0,  0],\n",
       "        [ 0,  0,  0,  0,  0],\n",
       "        [ 0,  0,  0,  0,  0],\n",
       "        [ 7,  4,  0,  0,  0]],\n",
       "\n",
       "       [[ 0,  0,  0,  0,  0],\n",
       "        [ 0,  0,  0,  0,  0],\n",
       "        [ 0,  0,  0,  0,  0],\n",
       "        [ 0,  0,  0,  0,  0],\n",
       "        [ 5,  5,  0,  0,  0]],\n",
       "\n",
       "       [[ 0,  0,  0,  0,  0],\n",
       "        [ 0,  0,  0,  0,  0],\n",
       "        [ 0,  0,  0,  0,  0],\n",
       "        [ 0,  0,  0,  0,  0],\n",
       "        [ 3,  6,  0,  0,  0]],\n",
       "\n",
       "       [[ 0,  0,  0,  0,  0],\n",
       "        [ 0,  0,  0,  0,  0],\n",
       "        [ 0,  0,  0,  0,  0],\n",
       "        [ 0,  0,  0,  0,  0],\n",
       "        [ 6, 11,  0,  0,  0]]])"
      ]
     },
     "execution_count": 10,
     "metadata": {},
     "output_type": "execute_result"
    }
   ],
   "source": [
    "rsc"
   ]
  },
  {
   "cell_type": "code",
   "execution_count": 8,
   "metadata": {},
   "outputs": [],
   "source": [
    "pids = np.array([[mons[j][0].probes[i].n2Probe.counterId for i in range(5)] for j in range(5)])"
   ]
  },
  {
   "cell_type": "code",
   "execution_count": 14,
   "metadata": {},
   "outputs": [],
   "source": [
    "pids2 = [[mons[j][0].probes[i].n2Probe.counterId for i in range(5)] for j in range(5)]"
   ]
  },
  {
   "cell_type": "code",
   "execution_count": 17,
   "metadata": {},
   "outputs": [
    {
     "data": {
      "text/plain": [
       "32"
      ]
     },
     "execution_count": 17,
     "metadata": {},
     "output_type": "execute_result"
    }
   ],
   "source": [
    "pids2[-1][0]"
   ]
  },
  {
   "cell_type": "code",
   "execution_count": 9,
   "metadata": {},
   "outputs": [
    {
     "data": {
      "text/plain": [
       "array([[36, 37, 38, 39, 40],\n",
       "       [41, 42, 43, 44, 45],\n",
       "       [46, 47, 48, 49, 50],\n",
       "       [51, 52, 53, 54, 55],\n",
       "       [32, 33, 34, 35, 56]])"
      ]
     },
     "execution_count": 9,
     "metadata": {},
     "output_type": "execute_result"
    }
   ],
   "source": [
    "pids"
   ]
  },
  {
   "cell_type": "code",
   "execution_count": 10,
   "metadata": {},
   "outputs": [
    {
     "data": {
      "text/plain": [
       "37"
      ]
     },
     "execution_count": 10,
     "metadata": {},
     "output_type": "execute_result"
    }
   ],
   "source": [
    "pids[0][1]"
   ]
  },
  {
   "cell_type": "code",
   "execution_count": 11,
   "metadata": {},
   "outputs": [],
   "source": [
    "pids_offset = pids - 32"
   ]
  },
  {
   "cell_type": "code",
   "execution_count": 12,
   "metadata": {},
   "outputs": [
    {
     "data": {
      "text/plain": [
       "array([[ 4,  5,  6,  7,  8],\n",
       "       [ 9, 10, 11, 12, 13],\n",
       "       [14, 15, 16, 17, 18],\n",
       "       [19, 20, 21, 22, 23],\n",
       "       [ 0,  1,  2,  3, 24]])"
      ]
     },
     "execution_count": 12,
     "metadata": {},
     "output_type": "execute_result"
    }
   ],
   "source": [
    "pids_offset"
   ]
  },
  {
   "cell_type": "code",
   "execution_count": 43,
   "metadata": {},
   "outputs": [
    {
     "data": {
      "text/plain": [
       "array([4, 5, 6, 7, 8])"
      ]
     },
     "execution_count": 43,
     "metadata": {},
     "output_type": "execute_result"
    }
   ],
   "source": [
    "pids_offset[0,:]"
   ]
  },
  {
   "cell_type": "code",
   "execution_count": 47,
   "metadata": {},
   "outputs": [
    {
     "data": {
      "text/plain": [
       "array([[7, 7, 3, 4, 0],\n",
       "       [0, 0, 1, 0, 1],\n",
       "       [3, 3, 0, 0, 4],\n",
       "       [3, 2, 1, 4, 3],\n",
       "       [6, 4, 6, 4, 6]])"
      ]
     },
     "execution_count": 47,
     "metadata": {},
     "output_type": "execute_result"
    }
   ],
   "source": [
    "rsc[0,:]"
   ]
  },
  {
   "cell_type": "markdown",
   "metadata": {},
   "source": [
    "Get the firing counts by group and see if they make sense"
   ]
  },
  {
   "cell_type": "code",
   "execution_count": 53,
   "metadata": {},
   "outputs": [],
   "source": [
    "fires = [np.array([np.ravel(rsc[i, :])[pids_offset[j,:]] for i in range(epochs)]) for j in range(numArms)]"
   ]
  },
  {
   "cell_type": "code",
   "execution_count": 54,
   "metadata": {},
   "outputs": [
    {
     "data": {
      "text/plain": [
       "5"
      ]
     },
     "execution_count": 54,
     "metadata": {},
     "output_type": "execute_result"
    }
   ],
   "source": [
    "len(fires)"
   ]
  },
  {
   "cell_type": "code",
   "execution_count": 55,
   "metadata": {},
   "outputs": [
    {
     "data": {
      "text/plain": [
       "[(10, 5), (10, 5), (10, 5), (10, 5), (10, 5)]"
      ]
     },
     "execution_count": 55,
     "metadata": {},
     "output_type": "execute_result"
    }
   ],
   "source": [
    "[f.shape for f in fires]"
   ]
  },
  {
   "cell_type": "code",
   "execution_count": 56,
   "metadata": {},
   "outputs": [
    {
     "data": {
      "text/plain": [
       "[8, 77, 178, 243, 353]"
      ]
     },
     "execution_count": 56,
     "metadata": {},
     "output_type": "execute_result"
    }
   ],
   "source": [
    "[np.sum(f) for f in fires]"
   ]
  },
  {
   "cell_type": "code",
   "execution_count": null,
   "metadata": {},
   "outputs": [],
   "source": []
  },
  {
   "cell_type": "code",
   "execution_count": 56,
   "metadata": {},
   "outputs": [
    {
     "data": {
      "text/plain": [
       "array([32, 33, 34, 35, 36, 37, 38, 39, 40, 41, 42, 43, 44, 45, 46, 47, 48,\n",
       "       49, 50, 51, 52, 53, 54, 55, 56])"
      ]
     },
     "execution_count": 56,
     "metadata": {},
     "output_type": "execute_result"
    }
   ],
   "source": [
    "np.sort(np.unique([[mons[j][0].probes[i].n2Probe.counterId for i in range(5)] for j in range(5)]))"
   ]
  },
  {
   "cell_type": "code",
   "execution_count": 36,
   "metadata": {},
   "outputs": [
    {
     "data": {
      "text/plain": [
       "array([], shape=(5, 0), dtype=int64)"
      ]
     },
     "execution_count": 36,
     "metadata": {},
     "output_type": "execute_result"
    }
   ],
   "source": [
    "mons[0][0].data"
   ]
  },
  {
   "cell_type": "code",
   "execution_count": 37,
   "metadata": {},
   "outputs": [
    {
     "data": {
      "text/plain": [
       "[array([0, 0, 0, 0, 0]),\n",
       " array([0, 0, 0, 0, 0]),\n",
       " array([0, 0, 0, 0, 0]),\n",
       " array([0, 0, 0, 0, 0]),\n",
       " array([0, 0, 0, 0, 0])]"
      ]
     },
     "execution_count": 37,
     "metadata": {},
     "output_type": "execute_result"
    }
   ],
   "source": [
    "[np.sum(mons[i][0].data,axis=1) for i in range(5)]"
   ]
  },
  {
   "cell_type": "code",
   "execution_count": 24,
   "metadata": {},
   "outputs": [
    {
     "data": {
      "text/plain": [
       "[array([1, 6, 4, 1, 3]),\n",
       " array([140, 139, 136, 135, 144]),\n",
       " array([136, 131, 149, 130, 144]),\n",
       " array([142, 147, 137, 150, 143]),\n",
       " array([152, 139, 144, 138, 146])]"
      ]
     },
     "execution_count": 24,
     "metadata": {},
     "output_type": "execute_result"
    }
   ],
   "source": [
    "[np.sum(mons[i][0].data,axis=1) for i in range(5)]"
   ]
  },
  {
   "cell_type": "code",
   "execution_count": 23,
   "metadata": {},
   "outputs": [
    {
     "data": {
      "text/plain": [
       "[15, 694, 690, 719, 719]"
      ]
     },
     "execution_count": 23,
     "metadata": {},
     "output_type": "execute_result"
    }
   ],
   "source": [
    "[np.sum(mons[i][0].data) for i in range(5)]"
   ]
  },
  {
   "cell_type": "code",
   "execution_count": null,
   "metadata": {},
   "outputs": [],
   "source": []
  },
  {
   "cell_type": "code",
   "execution_count": null,
   "metadata": {},
   "outputs": [],
   "source": []
  }
 ],
 "metadata": {
  "kernelspec": {
   "display_name": "Python 3",
   "language": "python",
   "name": "python3"
  },
  "language_info": {
   "codemirror_mode": {
    "name": "ipython",
    "version": 3
   },
   "file_extension": ".py",
   "mimetype": "text/x-python",
   "name": "python",
   "nbconvert_exporter": "python",
   "pygments_lexer": "ipython3",
   "version": "3.5.2"
  }
 },
 "nbformat": 4,
 "nbformat_minor": 2
}
