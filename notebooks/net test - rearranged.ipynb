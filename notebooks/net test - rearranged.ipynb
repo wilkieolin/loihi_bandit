{
 "cells": [
  {
   "cell_type": "code",
   "execution_count": 3,
   "metadata": {},
   "outputs": [],
   "source": [
    "import os\n",
    "import nxsdk.api.n2a as nx\n",
    "import numpy as np\n",
    "import matplotlib.pyplot as plt\n",
    "from nxsdk.graph.monitor.probes import *\n",
    "from nxsdk.graph.processes.phase_enums import Phase"
   ]
  },
  {
   "cell_type": "code",
   "execution_count": 4,
   "metadata": {},
   "outputs": [],
   "source": [
    "import matplotlib.pyplot as plt"
   ]
  },
  {
   "cell_type": "code",
   "execution_count": 5,
   "metadata": {},
   "outputs": [],
   "source": [
    "def create_network(numArms, neuronsPerArm, epochs, weights, probabilities):\n",
    "    assert len(weights) == numArms, \"Must provide number of weights equal to number of arms.\"\n",
    "    assert len(probabilities) == numArms, \"Must provide probability for each arm's reward.\"\n",
    "    for p in probabilities:\n",
    "        assert p in range(0,100), \"Probabilities must be represented as int from 0-100.\"\n",
    "        \n",
    "    totalNeurons = neuronsPerArm * numArms\n",
    "\n",
    "    #create the network\n",
    "    net = nx.NxNet()\n",
    "    #set up the noisy source neuron prototype\n",
    "    p_2Fire = nx.CompartmentPrototype(biasMant=0,\n",
    "                            biasExp=0,\n",
    "                            vThMant=4,\n",
    "                            compartmentVoltageDecay=0,\n",
    "                            compartmentCurrentDecay=0,\n",
    "\n",
    "                            enableNoise=1,\n",
    "                            randomizeVoltage=1,\n",
    "                            randomizeCurrent=0,\n",
    "                            noiseMantAtCompartment=2,\n",
    "                            noiseExpAtCompartment=7,\n",
    "                            functionalState=nx.COMPARTMENT_FUNCTIONAL_STATE.IDLE,\n",
    "                             logicalCoreId=1)\n",
    "    #set up the integrative prototype\n",
    "    p_Compare = nx.CompartmentPrototype(biasMant=0,\n",
    "                            biasExp=0,\n",
    "                            vThMant=100,\n",
    "                            compartmentVoltageDecay=0,\n",
    "                            compartmentCurrentDecay=2048,\n",
    "\n",
    "                            enableNoise=1,\n",
    "                            randomizeVoltage=0,\n",
    "                            randomizeCurrent=1,\n",
    "                            noiseMantAtCompartment=0,\n",
    "                            noiseExpAtCompartment=7,\n",
    "                            functionalState=nx.COMPARTMENT_FUNCTIONAL_STATE.IDLE,\n",
    "                             logicalCoreId=0)\n",
    "\n",
    "    #set up the learning rule that will control weight changes\n",
    "    lr = net.createLearningRule(dw='u0*r1',\n",
    "                                r1Impulse=1,\n",
    "                                r1TimeConstant=1,\n",
    "                                tEpoch=32)\n",
    "                                #TODO - can inc/dec weight based on reward\n",
    "\n",
    "    #create the connections which drive the integrator\n",
    "    exh_connx = nx.ConnectionPrototype(weight=2,\n",
    "                                    delay=0,\n",
    "                                    enableLearning=1,\n",
    "                                    learningRule=lr,\n",
    "                                    signMode=nx.SYNAPSE_SIGN_MODE.MIXED)\n",
    "    inh_connx = nx.ConnectionPrototype(weight=2,\n",
    "                                    delay=0,\n",
    "                                    signMode=nx.SYNAPSE_SIGN_MODE.MIXED)\n",
    "\n",
    "\n",
    "\n",
    "\n",
    "\n",
    "    #create inhibitory, excitatory, and integrative compartment groups\n",
    "    inhDriver = net.createCompartmentGroup(size=totalNeurons, prototype=p_2Fire)\n",
    "    exhDriver = net.createCompartmentGroup(size=totalNeurons, prototype=p_2Fire)\n",
    "    comparator = net.createCompartmentGroup(size=totalNeurons, prototype=p_Compare)\n",
    "\n",
    "    exhGrp = exhDriver.connect(comparator,\n",
    "                  prototype=exh_connx,\n",
    "                  weight= np.repeat(weights, neuronsPerArm) * np.identity(totalNeurons),\n",
    "                 connectionMask=np.identity(totalNeurons))\n",
    "\n",
    "    inhGrp = inhDriver.connect(comparator,\n",
    "                  prototype=inh_connx,\n",
    "                  weight=-50*np.identity(totalNeurons),\n",
    "                 connectionMask=np.identity(totalNeurons))\n",
    "\n",
    "    #setup the spike monitor\n",
    "    customSpikeProbeCond = SpikeProbeCondition(tStart=10000000)\n",
    "    spikes = comparator.probe(nx.ProbeParameter.SPIKE, customSpikeProbeCond)\n",
    "\n",
    "    #compile the network so we can add channels for the SNIPs\n",
    "    compiler = nx.N2Compiler()\n",
    "    board = compiler.compile(net)\n",
    "\n",
    "    #setup the management SNIP to calculate rewards and choose numArms\n",
    "    includeDir = os.getcwd()\n",
    "    learning = board.createSnip(Phase.EMBEDDED_MGMT,\n",
    "                                 includeDir=includeDir,\n",
    "                                 cFilePath = includeDir + \"/management.c\",\n",
    "                                 funcName = \"run_cycle\",\n",
    "                                 guardName = \"check\")\n",
    "\n",
    "    #create a channel to communicate with the Lakemont what the probability of each arm is\n",
    "    #have to transfer the number of arms, neurons per arm, and the probeID listening to each neuron\n",
    "    setupChannel = board.createChannel(b'setupChannel', \"int\", numArms + 2)\n",
    "    setupChannel.connect(None, learning)\n",
    "    dataChannel = board.createChannel(b'dataChannel', \"int\", (epochs+1) * numArms * neuronsPerArm)\n",
    "    dataChannel.connect(learning, None)\n",
    "\n",
    "    board.startDriver()\n",
    "    #first send the # of arms\n",
    "    setupChannel.write(1, [numArms])\n",
    "    #the # of neurons per arm\n",
    "    setupChannel.write(1, [neuronsPerArm])\n",
    "    #and the probeID for each neuron \n",
    "    setupChannel.write(numArms, probabilities)\n",
    "\n",
    "    return (board, spikes, dataChannel)"
   ]
  },
  {
   "cell_type": "code",
   "execution_count": 6,
   "metadata": {},
   "outputs": [
    {
     "name": "stdout",
     "output_type": "stream",
     "text": [
      "\u001b[1;30mWARNING\u001b[0m:\u001b[34mDRV\u001b[0m:  \u001b[33melementType would be deprecated in 0.9 in favor of messageSize, which provides more flexibility\u001b[0m\n",
      "\u001b[1;30mWARNING\u001b[0m:\u001b[34mDRV\u001b[0m:  \u001b[33melementType would be deprecated in 0.9 in favor of messageSize, which provides more flexibility\u001b[0m\n",
      "\u001b[1;30mINFO\u001b[0m:\u001b[34mDRV\u001b[0m:  SLURM is being run in background\n"
     ]
    },
    {
     "name": "stderr",
     "output_type": "stream",
     "text": [
      "/homes/wolin/python3_venv/lib/python3.5/site-packages/ipykernel_launcher.py:99: NxDeprecationWarning: startDriver is being deprecated. Use start instead.\n"
     ]
    },
    {
     "name": "stdout",
     "output_type": "stream",
     "text": [
      "\u001b[1;30mINFO\u001b[0m:\u001b[34mDRV\u001b[0m:  Connecting to 10.212.98.103:41783\n",
      "\u001b[1;30mINFO\u001b[0m:\u001b[34mDRV\u001b[0m:      Host server up..............Done 0.24s\n",
      "\u001b[1;30mINFO\u001b[0m:\u001b[34mDRV\u001b[0m:      Compiling Embedded snips....Done 0.29s\n",
      "\u001b[1;30mINFO\u001b[0m:\u001b[34mDRV\u001b[0m:      Encoding axons/synapses.....Done 9.80ms\n",
      "\u001b[1;30mINFO\u001b[0m:\u001b[34mDRV\u001b[0m:      Encoding probes.............Done 0.84ms\n",
      "\u001b[1;30mINFO\u001b[0m:\u001b[34mHST\u001b[0m:  Args chip=0 cpu=0 /homes/wolin/python3_venv/lib/python3.5/site-packages/nxsdk/driver/compilers/../../../temp/1573180087.848707/launcher_chip0_lmt0.bin --chips=1 --remote-relay=1 --epoch=32 \n",
      "\u001b[1;30mINFO\u001b[0m:\u001b[34mDRV\u001b[0m:      Booting up..................Done 2.64s\n",
      "\u001b[1;30mINFO\u001b[0m:\u001b[34mHST\u001b[0m:  Lakemont_driver...\n"
     ]
    }
   ],
   "source": [
    "probs = [90, 10, 10, 10, 10]\n",
    "weights = np.linspace(50, 100, num=5, dtype='int')\n",
    "numArms = 5\n",
    "neuronsPerArm = 5\n",
    "epochs = 10\n",
    "(board, mons, dchannel) = create_network(numArms, neuronsPerArm, epochs, weights, probs)\n",
    "    "
   ]
  },
  {
   "cell_type": "code",
   "execution_count": 7,
   "metadata": {
    "scrolled": false
   },
   "outputs": [
    {
     "name": "stdout",
     "output_type": "stream",
     "text": [
      "\u001b[1;30mINFO\u001b[0m:\u001b[34mDRV\u001b[0m:      Transferring probes.........Done 4.10ms\n",
      "\u001b[1;30mINFO\u001b[0m:\u001b[34mDRV\u001b[0m:      Transferring spikes.........Done 0.80ms\n",
      "\u001b[1;30mINFO\u001b[0m:\u001b[34mDRV\u001b[0m:      Configuring registers.......Done 9.89ms\n"
     ]
    }
   ],
   "source": [
    "board.run(100*epochs+1, aSync=True)"
   ]
  },
  {
   "cell_type": "code",
   "execution_count": 8,
   "metadata": {},
   "outputs": [],
   "source": [
    "counts =  dchannel.read(epochs*numArms*neuronsPerArm)"
   ]
  },
  {
   "cell_type": "code",
   "execution_count": 9,
   "metadata": {},
   "outputs": [
    {
     "name": "stdout",
     "output_type": "stream",
     "text": [
      "\u001b[1;30mINFO\u001b[0m:\u001b[34mHST\u001b[0m:  chip=0 cpu=0 halted, status=0x0\n"
     ]
    }
   ],
   "source": [
    "board.disconnect()"
   ]
  },
  {
   "cell_type": "code",
   "execution_count": 10,
   "metadata": {},
   "outputs": [
    {
     "data": {
      "text/plain": [
       "250"
      ]
     },
     "execution_count": 10,
     "metadata": {},
     "output_type": "execute_result"
    }
   ],
   "source": [
    "len(counts)"
   ]
  },
  {
   "cell_type": "code",
   "execution_count": 11,
   "metadata": {},
   "outputs": [],
   "source": [
    "rsc = np.reshape(counts, (epochs, numArms, neuronsPerArm))"
   ]
  },
  {
   "cell_type": "code",
   "execution_count": 12,
   "metadata": {},
   "outputs": [
    {
     "data": {
      "text/plain": [
       "array([[[ 3,  4,  4,  3,  3],\n",
       "        [ 4,  6, 10,  2,  3],\n",
       "        [ 6,  0,  0,  0,  0],\n",
       "        [ 2,  1,  1,  2,  1],\n",
       "        [ 0,  3,  4,  4,  0]],\n",
       "\n",
       "       [[ 7,  7,  7,  9,  4],\n",
       "        [ 3,  8,  7,  8,  8],\n",
       "        [ 7,  0,  0,  0,  0],\n",
       "        [ 1,  2,  0,  2,  2],\n",
       "        [ 0,  6,  2,  2,  5]],\n",
       "\n",
       "       [[ 3,  5,  4,  5,  7],\n",
       "        [ 7, 11,  8, 10,  8],\n",
       "        [ 9,  0,  0,  1,  0],\n",
       "        [ 0,  4,  2,  1,  3],\n",
       "        [ 0,  3,  4,  4,  2]],\n",
       "\n",
       "       [[ 7,  6,  5,  7,  6],\n",
       "        [ 6,  8,  9,  8,  4],\n",
       "        [ 5,  0,  0,  0,  0],\n",
       "        [ 0,  0,  2,  3,  0],\n",
       "        [ 2,  3,  5,  1,  4]],\n",
       "\n",
       "       [[ 4,  6,  8,  6,  2],\n",
       "        [ 3,  6,  9,  3,  6],\n",
       "        [ 8,  0,  0,  2,  0],\n",
       "        [ 0,  3,  2,  2,  0],\n",
       "        [ 3,  7,  3,  0,  6]],\n",
       "\n",
       "       [[ 6,  5,  8,  7,  1],\n",
       "        [ 3,  8, 10,  3,  8],\n",
       "        [ 7,  0,  0,  0,  0],\n",
       "        [ 0,  1,  1,  1,  1],\n",
       "        [ 4,  3,  1,  7,  6]],\n",
       "\n",
       "       [[ 4,  8,  3,  9,  5],\n",
       "        [ 6,  7,  5,  7,  2],\n",
       "        [ 3,  0,  0,  0,  0],\n",
       "        [ 0,  2,  0,  0,  2],\n",
       "        [ 4,  1,  4,  7,  2]],\n",
       "\n",
       "       [[ 4,  3,  7,  2,  4],\n",
       "        [ 7,  5, 10, 10, 10],\n",
       "        [ 6,  0,  0,  0,  0],\n",
       "        [ 0,  0,  1,  1,  3],\n",
       "        [ 2,  1,  5,  5,  4]],\n",
       "\n",
       "       [[ 5,  3,  4,  5,  8],\n",
       "        [ 5,  6, 11, 11,  5],\n",
       "        [ 8,  0,  0,  0,  0],\n",
       "        [ 0,  3,  0,  2,  2],\n",
       "        [ 0,  2,  4,  3,  5]],\n",
       "\n",
       "       [[ 3,  5,  4,  5,  2],\n",
       "        [11,  5,  8,  4, 10],\n",
       "        [ 6,  0,  0,  0,  0],\n",
       "        [ 0,  0,  4,  3,  5],\n",
       "        [ 3,  1,  5,  3,  4]]])"
      ]
     },
     "execution_count": 12,
     "metadata": {},
     "output_type": "execute_result"
    }
   ],
   "source": [
    "rsc"
   ]
  },
  {
   "cell_type": "code",
   "execution_count": 19,
   "metadata": {},
   "outputs": [
    {
     "data": {
      "text/plain": [
       "25"
      ]
     },
     "execution_count": 19,
     "metadata": {},
     "output_type": "execute_result"
    }
   ],
   "source": [
    "len(mons[0].probes)"
   ]
  },
  {
   "cell_type": "code",
   "execution_count": 21,
   "metadata": {},
   "outputs": [
    {
     "data": {
      "text/plain": [
       "[43,\n",
       " 44,\n",
       " 45,\n",
       " 46,\n",
       " 47,\n",
       " 48,\n",
       " 49,\n",
       " 50,\n",
       " 51,\n",
       " 52,\n",
       " 53,\n",
       " 54,\n",
       " 55,\n",
       " 56,\n",
       " 32,\n",
       " 33,\n",
       " 34,\n",
       " 35,\n",
       " 36,\n",
       " 37,\n",
       " 38,\n",
       " 39,\n",
       " 40,\n",
       " 41,\n",
       " 42]"
      ]
     },
     "execution_count": 21,
     "metadata": {},
     "output_type": "execute_result"
    }
   ],
   "source": [
    "[p.n2Probe.counterId for p in mons[0].probes]"
   ]
  },
  {
   "cell_type": "markdown",
   "metadata": {},
   "source": [
    "doesn't fix things being out of order"
   ]
  },
  {
   "cell_type": "code",
   "execution_count": null,
   "metadata": {},
   "outputs": [],
   "source": [
    "pids = np.array()"
   ]
  },
  {
   "cell_type": "code",
   "execution_count": 13,
   "metadata": {},
   "outputs": [
    {
     "ename": "AttributeError",
     "evalue": "'NxProbe' object has no attribute 'probes'",
     "output_type": "error",
     "traceback": [
      "\u001b[0;31m---------------------------------------------------------------------------\u001b[0m",
      "\u001b[0;31mAttributeError\u001b[0m                            Traceback (most recent call last)",
      "\u001b[0;32m<ipython-input-13-9f672c94768c>\u001b[0m in \u001b[0;36m<module>\u001b[0;34m\u001b[0m\n\u001b[0;32m----> 1\u001b[0;31m \u001b[0mpids\u001b[0m \u001b[0;34m=\u001b[0m \u001b[0mnp\u001b[0m\u001b[0;34m.\u001b[0m\u001b[0marray\u001b[0m\u001b[0;34m(\u001b[0m\u001b[0;34m[\u001b[0m\u001b[0;34m[\u001b[0m\u001b[0mmons\u001b[0m\u001b[0;34m[\u001b[0m\u001b[0mj\u001b[0m\u001b[0;34m]\u001b[0m\u001b[0;34m[\u001b[0m\u001b[0;36m0\u001b[0m\u001b[0;34m]\u001b[0m\u001b[0;34m.\u001b[0m\u001b[0mprobes\u001b[0m\u001b[0;34m[\u001b[0m\u001b[0mi\u001b[0m\u001b[0;34m]\u001b[0m\u001b[0;34m.\u001b[0m\u001b[0mn2Probe\u001b[0m\u001b[0;34m.\u001b[0m\u001b[0mcounterId\u001b[0m \u001b[0;32mfor\u001b[0m \u001b[0mi\u001b[0m \u001b[0;32min\u001b[0m \u001b[0mrange\u001b[0m\u001b[0;34m(\u001b[0m\u001b[0;36m5\u001b[0m\u001b[0;34m)\u001b[0m\u001b[0;34m]\u001b[0m \u001b[0;32mfor\u001b[0m \u001b[0mj\u001b[0m \u001b[0;32min\u001b[0m \u001b[0mrange\u001b[0m\u001b[0;34m(\u001b[0m\u001b[0;36m5\u001b[0m\u001b[0;34m)\u001b[0m\u001b[0;34m]\u001b[0m\u001b[0;34m)\u001b[0m\u001b[0;34m\u001b[0m\u001b[0m\n\u001b[0m",
      "\u001b[0;32m<ipython-input-13-9f672c94768c>\u001b[0m in \u001b[0;36m<listcomp>\u001b[0;34m(.0)\u001b[0m\n\u001b[0;32m----> 1\u001b[0;31m \u001b[0mpids\u001b[0m \u001b[0;34m=\u001b[0m \u001b[0mnp\u001b[0m\u001b[0;34m.\u001b[0m\u001b[0marray\u001b[0m\u001b[0;34m(\u001b[0m\u001b[0;34m[\u001b[0m\u001b[0;34m[\u001b[0m\u001b[0mmons\u001b[0m\u001b[0;34m[\u001b[0m\u001b[0mj\u001b[0m\u001b[0;34m]\u001b[0m\u001b[0;34m[\u001b[0m\u001b[0;36m0\u001b[0m\u001b[0;34m]\u001b[0m\u001b[0;34m.\u001b[0m\u001b[0mprobes\u001b[0m\u001b[0;34m[\u001b[0m\u001b[0mi\u001b[0m\u001b[0;34m]\u001b[0m\u001b[0;34m.\u001b[0m\u001b[0mn2Probe\u001b[0m\u001b[0;34m.\u001b[0m\u001b[0mcounterId\u001b[0m \u001b[0;32mfor\u001b[0m \u001b[0mi\u001b[0m \u001b[0;32min\u001b[0m \u001b[0mrange\u001b[0m\u001b[0;34m(\u001b[0m\u001b[0;36m5\u001b[0m\u001b[0;34m)\u001b[0m\u001b[0;34m]\u001b[0m \u001b[0;32mfor\u001b[0m \u001b[0mj\u001b[0m \u001b[0;32min\u001b[0m \u001b[0mrange\u001b[0m\u001b[0;34m(\u001b[0m\u001b[0;36m5\u001b[0m\u001b[0;34m)\u001b[0m\u001b[0;34m]\u001b[0m\u001b[0;34m)\u001b[0m\u001b[0;34m\u001b[0m\u001b[0m\n\u001b[0m",
      "\u001b[0;32m<ipython-input-13-9f672c94768c>\u001b[0m in \u001b[0;36m<listcomp>\u001b[0;34m(.0)\u001b[0m\n\u001b[0;32m----> 1\u001b[0;31m \u001b[0mpids\u001b[0m \u001b[0;34m=\u001b[0m \u001b[0mnp\u001b[0m\u001b[0;34m.\u001b[0m\u001b[0marray\u001b[0m\u001b[0;34m(\u001b[0m\u001b[0;34m[\u001b[0m\u001b[0;34m[\u001b[0m\u001b[0mmons\u001b[0m\u001b[0;34m[\u001b[0m\u001b[0mj\u001b[0m\u001b[0;34m]\u001b[0m\u001b[0;34m[\u001b[0m\u001b[0;36m0\u001b[0m\u001b[0;34m]\u001b[0m\u001b[0;34m.\u001b[0m\u001b[0mprobes\u001b[0m\u001b[0;34m[\u001b[0m\u001b[0mi\u001b[0m\u001b[0;34m]\u001b[0m\u001b[0;34m.\u001b[0m\u001b[0mn2Probe\u001b[0m\u001b[0;34m.\u001b[0m\u001b[0mcounterId\u001b[0m \u001b[0;32mfor\u001b[0m \u001b[0mi\u001b[0m \u001b[0;32min\u001b[0m \u001b[0mrange\u001b[0m\u001b[0;34m(\u001b[0m\u001b[0;36m5\u001b[0m\u001b[0;34m)\u001b[0m\u001b[0;34m]\u001b[0m \u001b[0;32mfor\u001b[0m \u001b[0mj\u001b[0m \u001b[0;32min\u001b[0m \u001b[0mrange\u001b[0m\u001b[0;34m(\u001b[0m\u001b[0;36m5\u001b[0m\u001b[0;34m)\u001b[0m\u001b[0;34m]\u001b[0m\u001b[0;34m)\u001b[0m\u001b[0;34m\u001b[0m\u001b[0m\n\u001b[0m",
      "\u001b[0;31mAttributeError\u001b[0m: 'NxProbe' object has no attribute 'probes'"
     ]
    }
   ],
   "source": [
    "pids = np.array([[mons[j][0].probes[i].n2Probe.counterId for i in range(5)] for j in range(5)])"
   ]
  },
  {
   "cell_type": "code",
   "execution_count": null,
   "metadata": {},
   "outputs": [],
   "source": [
    "pids"
   ]
  },
  {
   "cell_type": "code",
   "execution_count": 41,
   "metadata": {},
   "outputs": [],
   "source": [
    "pids_offset = pids - 32"
   ]
  },
  {
   "cell_type": "code",
   "execution_count": 45,
   "metadata": {},
   "outputs": [
    {
     "data": {
      "text/plain": [
       "array([[ 4,  5,  6,  7,  8],\n",
       "       [ 9, 10, 11, 12, 13],\n",
       "       [14, 15, 16, 17, 18],\n",
       "       [19, 20, 21, 22, 23],\n",
       "       [ 0,  1,  2,  3, 24]])"
      ]
     },
     "execution_count": 45,
     "metadata": {},
     "output_type": "execute_result"
    }
   ],
   "source": [
    "pids_offset"
   ]
  },
  {
   "cell_type": "code",
   "execution_count": 43,
   "metadata": {},
   "outputs": [
    {
     "data": {
      "text/plain": [
       "array([4, 5, 6, 7, 8])"
      ]
     },
     "execution_count": 43,
     "metadata": {},
     "output_type": "execute_result"
    }
   ],
   "source": [
    "pids_offset[0,:]"
   ]
  },
  {
   "cell_type": "code",
   "execution_count": 47,
   "metadata": {},
   "outputs": [
    {
     "data": {
      "text/plain": [
       "array([[7, 7, 3, 4, 0],\n",
       "       [0, 0, 1, 0, 1],\n",
       "       [3, 3, 0, 0, 4],\n",
       "       [3, 2, 1, 4, 3],\n",
       "       [6, 4, 6, 4, 6]])"
      ]
     },
     "execution_count": 47,
     "metadata": {},
     "output_type": "execute_result"
    }
   ],
   "source": [
    "rsc[0,:]"
   ]
  },
  {
   "cell_type": "markdown",
   "metadata": {},
   "source": [
    "Get the firing counts by group and see if they make sense"
   ]
  },
  {
   "cell_type": "code",
   "execution_count": 53,
   "metadata": {},
   "outputs": [],
   "source": [
    "fires = [np.array([np.ravel(rsc[i, :])[pids_offset[j,:]] for i in range(epochs)]) for j in range(numArms)]"
   ]
  },
  {
   "cell_type": "code",
   "execution_count": 54,
   "metadata": {},
   "outputs": [
    {
     "data": {
      "text/plain": [
       "5"
      ]
     },
     "execution_count": 54,
     "metadata": {},
     "output_type": "execute_result"
    }
   ],
   "source": [
    "len(fires)"
   ]
  },
  {
   "cell_type": "code",
   "execution_count": 55,
   "metadata": {},
   "outputs": [
    {
     "data": {
      "text/plain": [
       "[(10, 5), (10, 5), (10, 5), (10, 5), (10, 5)]"
      ]
     },
     "execution_count": 55,
     "metadata": {},
     "output_type": "execute_result"
    }
   ],
   "source": [
    "[f.shape for f in fires]"
   ]
  },
  {
   "cell_type": "code",
   "execution_count": 56,
   "metadata": {},
   "outputs": [
    {
     "data": {
      "text/plain": [
       "[8, 77, 178, 243, 353]"
      ]
     },
     "execution_count": 56,
     "metadata": {},
     "output_type": "execute_result"
    }
   ],
   "source": [
    "[np.sum(f) for f in fires]"
   ]
  },
  {
   "cell_type": "code",
   "execution_count": null,
   "metadata": {},
   "outputs": [],
   "source": []
  },
  {
   "cell_type": "code",
   "execution_count": 56,
   "metadata": {},
   "outputs": [
    {
     "data": {
      "text/plain": [
       "array([32, 33, 34, 35, 36, 37, 38, 39, 40, 41, 42, 43, 44, 45, 46, 47, 48,\n",
       "       49, 50, 51, 52, 53, 54, 55, 56])"
      ]
     },
     "execution_count": 56,
     "metadata": {},
     "output_type": "execute_result"
    }
   ],
   "source": [
    "np.sort(np.unique([[mons[j][0].probes[i].n2Probe.counterId for i in range(5)] for j in range(5)]))"
   ]
  },
  {
   "cell_type": "code",
   "execution_count": 36,
   "metadata": {},
   "outputs": [
    {
     "data": {
      "text/plain": [
       "array([], shape=(5, 0), dtype=int64)"
      ]
     },
     "execution_count": 36,
     "metadata": {},
     "output_type": "execute_result"
    }
   ],
   "source": [
    "mons[0][0].data"
   ]
  },
  {
   "cell_type": "code",
   "execution_count": 37,
   "metadata": {},
   "outputs": [
    {
     "data": {
      "text/plain": [
       "[array([0, 0, 0, 0, 0]),\n",
       " array([0, 0, 0, 0, 0]),\n",
       " array([0, 0, 0, 0, 0]),\n",
       " array([0, 0, 0, 0, 0]),\n",
       " array([0, 0, 0, 0, 0])]"
      ]
     },
     "execution_count": 37,
     "metadata": {},
     "output_type": "execute_result"
    }
   ],
   "source": [
    "[np.sum(mons[i][0].data,axis=1) for i in range(5)]"
   ]
  },
  {
   "cell_type": "code",
   "execution_count": 24,
   "metadata": {},
   "outputs": [
    {
     "data": {
      "text/plain": [
       "[array([1, 6, 4, 1, 3]),\n",
       " array([140, 139, 136, 135, 144]),\n",
       " array([136, 131, 149, 130, 144]),\n",
       " array([142, 147, 137, 150, 143]),\n",
       " array([152, 139, 144, 138, 146])]"
      ]
     },
     "execution_count": 24,
     "metadata": {},
     "output_type": "execute_result"
    }
   ],
   "source": [
    "[np.sum(mons[i][0].data,axis=1) for i in range(5)]"
   ]
  },
  {
   "cell_type": "code",
   "execution_count": 23,
   "metadata": {},
   "outputs": [
    {
     "data": {
      "text/plain": [
       "[15, 694, 690, 719, 719]"
      ]
     },
     "execution_count": 23,
     "metadata": {},
     "output_type": "execute_result"
    }
   ],
   "source": [
    "[np.sum(mons[i][0].data) for i in range(5)]"
   ]
  },
  {
   "cell_type": "code",
   "execution_count": null,
   "metadata": {},
   "outputs": [],
   "source": []
  },
  {
   "cell_type": "code",
   "execution_count": null,
   "metadata": {},
   "outputs": [],
   "source": []
  }
 ],
 "metadata": {
  "kernelspec": {
   "display_name": "Python 3",
   "language": "python",
   "name": "python3"
  },
  "language_info": {
   "codemirror_mode": {
    "name": "ipython",
    "version": 3
   },
   "file_extension": ".py",
   "mimetype": "text/x-python",
   "name": "python",
   "nbconvert_exporter": "python",
   "pygments_lexer": "ipython3",
   "version": "3.5.2"
  }
 },
 "nbformat": 4,
 "nbformat_minor": 2
}
