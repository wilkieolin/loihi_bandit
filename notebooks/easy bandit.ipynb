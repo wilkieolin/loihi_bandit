{
 "cells": [
  {
   "cell_type": "code",
   "execution_count": 1,
   "metadata": {},
   "outputs": [],
   "source": [
    "import bandit as b"
   ]
  },
  {
   "cell_type": "code",
   "execution_count": 2,
   "metadata": {},
   "outputs": [],
   "source": [
    "import matplotlib.pyplot as plt"
   ]
  },
  {
   "cell_type": "code",
   "execution_count": 3,
   "metadata": {},
   "outputs": [],
   "source": [
    "import numpy as np"
   ]
  },
  {
   "cell_type": "code",
   "execution_count": 16,
   "metadata": {},
   "outputs": [],
   "source": [
    "numArms = 5\n",
    "neuronsPerArm = 2\n",
    "tEpoch = 64\n",
    "epochs = 50\n",
    "probabilities = [0, 10, 20, 30, 70]\n",
    "weights = 1 * np.ones(5, dtype='int')"
   ]
  },
  {
   "cell_type": "code",
   "execution_count": 17,
   "metadata": {
    "scrolled": false
   },
   "outputs": [
    {
     "name": "stdout",
     "output_type": "stream",
     "text": [
      "\u001b[1;30mWARNING\u001b[0m:\u001b[34mDRV\u001b[0m:  \u001b[33melementType would be deprecated in 0.9 in favor of messageSize, which provides more flexibility\u001b[0m\n",
      "\u001b[1;30mWARNING\u001b[0m:\u001b[34mDRV\u001b[0m:  \u001b[33melementType would be deprecated in 0.9 in favor of messageSize, which provides more flexibility\u001b[0m\n",
      "\u001b[1;30mWARNING\u001b[0m:\u001b[34mDRV\u001b[0m:  \u001b[33melementType would be deprecated in 0.9 in favor of messageSize, which provides more flexibility\u001b[0m\n",
      "\u001b[1;30mWARNING\u001b[0m:\u001b[34mDRV\u001b[0m:  \u001b[33melementType would be deprecated in 0.9 in favor of messageSize, which provides more flexibility\u001b[0m\n",
      "\u001b[1;30mINFO\u001b[0m:\u001b[34mDRV\u001b[0m:  SLURM is being run in background\n",
      "\u001b[1;30mINFO\u001b[0m:\u001b[34mDRV\u001b[0m:  Connecting to 10.212.98.103:37259\n",
      "\u001b[1;30mINFO\u001b[0m:\u001b[34mDRV\u001b[0m:      Host server up..............Done 0.15s\n",
      "\u001b[1;30mINFO\u001b[0m:\u001b[34mDRV\u001b[0m:      Encoding axons/synapses.....Done 6.31ms\n",
      "\u001b[1;30mINFO\u001b[0m:\u001b[34mDRV\u001b[0m:      Compiling Embedded snips....Done 0.39s\n",
      "\u001b[1;30mINFO\u001b[0m:\u001b[34mHST\u001b[0m:  Args chip=0 cpu=0 /homes/wolin/python3_venv/lib/python3.5/site-packages/nxsdk/driver/compilers/../../../temp/1574125714.8748908/launcher_chip0_lmt0.bin --chips=1 --remote-relay=1 --epoch=2 \n",
      "\u001b[1;30mINFO\u001b[0m:\u001b[34mDRV\u001b[0m:      Booting up..................Done 2.63s\n",
      "\u001b[1;30mINFO\u001b[0m:\u001b[34mDRV\u001b[0m:      Encoding probes.............Done 0.88ms\n",
      "\u001b[1;30mINFO\u001b[0m:\u001b[34mHST\u001b[0m:  Lakemont_driver...\n",
      "\u001b[1;30mINFO\u001b[0m:\u001b[34mDRV\u001b[0m:      Transferring spikes.........Done 1.98ms\n",
      "\u001b[1;30mINFO\u001b[0m:\u001b[34mDRV\u001b[0m:      Transferring probes.........Done 3.39ms\n",
      "\u001b[1;30mINFO\u001b[0m:\u001b[34mDRV\u001b[0m:      Configuring registers.......Done 0.03s\n",
      "\u001b[1;30mINFO\u001b[0m:\u001b[34mDRV\u001b[0m:      Executing...................Done 0.45s\n",
      "\u001b[1;30mINFO\u001b[0m:\u001b[34mDRV\u001b[0m:      Processing timeseries.......Done 0.59s\n",
      "\u001b[1;30mINFO\u001b[0m:\u001b[34mDRV\u001b[0m:  Executor: 3200 timesteps........Done 1.08s\n",
      "\u001b[1;30mINFO\u001b[0m:\u001b[34mHST\u001b[0m:  chip=0 cpu=0 halted, status=0x0\n"
     ]
    }
   ],
   "source": [
    "bandito = b.bandit(numArms, neuronsPerArm, tEpoch, epochs, probabilities=probabilities, weights=weights)\n",
    "(x,y,z) = bandito.run(epochs)\n",
    "bandito.stop()"
   ]
  },
  {
   "cell_type": "code",
   "execution_count": 18,
   "metadata": {},
   "outputs": [],
   "source": [
    "p = bandito.get_reward_probes()"
   ]
  },
  {
   "cell_type": "code",
   "execution_count": 19,
   "metadata": {},
   "outputs": [],
   "source": [
    "lrs = [arm.learningRule for arm in bandito.arms]"
   ]
  },
  {
   "cell_type": "code",
   "execution_count": 20,
   "metadata": {},
   "outputs": [
    {
     "data": {
      "text/plain": [
       "[0, 1, 2, 3, 4]"
      ]
     },
     "execution_count": 20,
     "metadata": {},
     "output_type": "execute_result"
    }
   ],
   "source": [
    "[lr.id for lr in lrs]"
   ]
  },
  {
   "cell_type": "code",
   "execution_count": 21,
   "metadata": {},
   "outputs": [
    {
     "data": {
      "text/plain": [
       "([1, 3, 3, 4, 3, 1, 3, 3, 3, 1, 3, 3, 3, 4, 2, 1, 3, 4, 0, 3, 3, 3, 2, 3, 4, 4, 4, 3, 4, 1, 4, 4, 3, 3, 4, 4, 3, 4, 3, 2, 4, 3, 4, 4, 3, 4, 2, 4, 4, 4],\n",
       " [0, 1, 0, 0, 0, 0, 0, 0, 0, 0, 1, 0, 1, 0, 0, 0, 0, 1, 0, 0, 0, 0, 0, 0, 1, 1, 0, 0, 1, 1, 0, 0, 1, 0, 1, 1, 0, 1, 1, 0, 1, 0, 1, 1, 0, 1, 0, 1, 0, 1])"
      ]
     },
     "execution_count": 21,
     "metadata": {},
     "output_type": "execute_result"
    }
   ],
   "source": [
    "x,y"
   ]
  },
  {
   "cell_type": "code",
   "execution_count": 22,
   "metadata": {},
   "outputs": [
    {
     "data": {
      "text/plain": [
       "array([[14, 14, 14, 14, 14],\n",
       "       [11, 11, 11, 11, 11],\n",
       "       [11, 11, 11, 12, 11],\n",
       "       [12, 12, 12,  9, 12],\n",
       "       [ 8,  8,  8, 10,  8],\n",
       "       [10, 10, 10,  8, 10],\n",
       "       [ 6,  6,  6, 11,  6],\n",
       "       [ 8,  8,  8, 12,  8],\n",
       "       [ 9,  9,  9, 19,  9],\n",
       "       [10, 10, 10, 10, 10],\n",
       "       [ 7,  7,  7,  8,  7],\n",
       "       [10, 10, 10, 14, 10],\n",
       "       [ 6,  6,  6,  7,  6],\n",
       "       [ 9,  9,  9,  7,  9],\n",
       "       [ 9,  9,  9,  8,  9],\n",
       "       [10, 10, 10, 10, 10],\n",
       "       [ 9,  9,  9, 13,  9],\n",
       "       [10, 10, 10,  9, 10],\n",
       "       [12, 12, 12,  9, 10],\n",
       "       [10, 10, 10, 11,  6],\n",
       "       [ 8,  8,  8, 12, 11],\n",
       "       [ 8,  8,  8, 17, 10],\n",
       "       [14, 14, 14,  9, 11],\n",
       "       [10, 10, 10, 14, 12],\n",
       "       [11, 11, 11,  9, 12],\n",
       "       [ 8,  8,  8,  9, 10],\n",
       "       [11, 11, 11, 12, 14],\n",
       "       [ 6,  6,  6, 12, 10],\n",
       "       [11, 11, 11, 13, 14],\n",
       "       [12, 12, 12, 11,  9],\n",
       "       [10, 11, 10, 13, 13],\n",
       "       [10,  9, 10,  7, 13],\n",
       "       [10, 12, 10, 15,  6],\n",
       "       [ 5, 11,  5, 17, 14],\n",
       "       [10, 11, 10, 12, 14],\n",
       "       [10, 10, 10, 12, 15],\n",
       "       [12, 10, 12, 14, 14],\n",
       "       [10, 10, 10, 10, 13],\n",
       "       [ 6, 15,  6, 17, 14],\n",
       "       [11,  6, 11,  8,  9],\n",
       "       [ 9, 10,  9, 12, 12],\n",
       "       [10,  8, 10, 11,  9],\n",
       "       [ 9, 10,  9, 12, 13],\n",
       "       [11, 12, 11, 11, 13],\n",
       "       [11, 10, 11, 16, 12],\n",
       "       [ 6, 11,  6, 11, 16],\n",
       "       [15,  8, 15,  8, 11],\n",
       "       [11, 10, 11, 13, 19],\n",
       "       [12,  8, 12, 16, 18],\n",
       "       [10, 12, 10, 10, 18]])"
      ]
     },
     "execution_count": 22,
     "metadata": {},
     "output_type": "execute_result"
    }
   ],
   "source": [
    "z"
   ]
  },
  {
   "cell_type": "code",
   "execution_count": 23,
   "metadata": {},
   "outputs": [
    {
     "data": {
      "text/plain": [
       "<matplotlib.collections.PathCollection at 0x7fe7dd0ac518>"
      ]
     },
     "execution_count": 23,
     "metadata": {},
     "output_type": "execute_result"
    },
    {
     "data": {
      "image/png": "[encoded data removed]",
      "text/plain": [
       "<Figure size 432x288 with 1 Axes>"
      ]
     },
     "metadata": {
      "needs_background": "light"
     },
     "output_type": "display_data"
    }
   ],
   "source": [
    "plt.scatter(np.arange(len(x)), x)"
   ]
  },
  {
   "cell_type": "code",
   "execution_count": 24,
   "metadata": {},
   "outputs": [
    {
     "data": {
      "image/png": "[encoded data removed]",
      "text/plain": [
       "<Figure size 432x288 with 1 Axes>"
      ]
     },
     "metadata": {
      "needs_background": "light"
     },
     "output_type": "display_data"
    }
   ],
   "source": [
    "for i in range(numArms):\n",
    "    data = np.array(p[i][0].data)\n",
    "    shape = data.shape\n",
    "    plt.plot((data + np.ones(shape)*2*i))"
   ]
  },
  {
   "cell_type": "code",
   "execution_count": 25,
   "metadata": {},
   "outputs": [],
   "source": [
    "ws = bandito.get_weights()"
   ]
  },
  {
   "cell_type": "code",
   "execution_count": 26,
   "metadata": {},
   "outputs": [
    {
     "data": {
      "text/plain": [
       "<matplotlib.collections.PolyCollection at 0x7fe7dcdde6d8>"
      ]
     },
     "execution_count": 26,
     "metadata": {},
     "output_type": "execute_result"
    },
    {
     "data": {
      "image/png": "[encoded data removed]",
      "text/plain": [
       "<Figure size 432x288 with 1 Axes>"
      ]
     },
     "metadata": {
      "needs_background": "light"
     },
     "output_type": "display_data"
    }
   ],
   "source": [
    "plt.pcolor(np.concatenate(ws, axis=0))"
   ]
  },
  {
   "cell_type": "code",
   "execution_count": null,
   "metadata": {},
   "outputs": [],
   "source": []
  }
 ],
 "metadata": {
  "kernelspec": {
   "display_name": "Python 3",
   "language": "python",
   "name": "python3"
  },
  "language_info": {
   "codemirror_mode": {
    "name": "ipython",
    "version": 3
   },
   "file_extension": ".py",
   "mimetype": "text/x-python",
   "name": "python",
   "nbconvert_exporter": "python",
   "pygments_lexer": "ipython3",
   "version": "3.5.2"
  }
 },
 "nbformat": 4,
 "nbformat_minor": 2
}
